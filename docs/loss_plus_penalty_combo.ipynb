{
 "cells": [
  {
   "cell_type": "markdown",
   "metadata": {},
   "source": [
    "# Programatically access any loss + penalty combination"
   ]
  },
  {
   "cell_type": "markdown",
   "metadata": {},
   "source": [
    "`ya_glm` lets you combine a wide array of GLMs (e.g. linear regression, logistic regression, multiple response linear regression, etc) with a wide array of penalties (e.g. Lasso, ElasticNet, Group Lasso, L1 to L2 norm, nuclear norm, etc). We can programaticlaly generate estimators with any combination of GLM loss and penalty.\n",
    "\n",
    "`ya_glm` also lets you swap in your favorite GLM solver."
   ]
  },
  {
   "cell_type": "code",
   "execution_count": 9,
   "metadata": {},
   "outputs": [],
   "source": [
    "import numpy as np\n",
    "import seaborn as sns\n",
    "import matplotlib.pyplot as plt\n",
    "\n",
    "from ya_glm.toy_data import sample_sparse_lin_reg, sample_sparse_log_reg\n",
    "from ya_glm.estimator_getter import get_pen_glm"
   ]
  },
  {
   "cell_type": "code",
   "execution_count": 2,
   "metadata": {},
   "outputs": [
    {
     "data": {
      "text/plain": [
       "Text(0.5, 1.0, 'True coefficient')"
      ]
     },
     "execution_count": 2,
     "metadata": {},
     "output_type": "execute_result"
    },
    {
     "data": {
      "image/png": "[encoded data removed]",
      "text/plain": [
       "<Figure size 432x288 with 1 Axes>"
      ]
     },
     "metadata": {
      "needs_background": "light"
     },
     "output_type": "display_data"
    }
   ],
   "source": [
    "# sample some linear regression data\n",
    "X, y, coef, intercept = sample_sparse_lin_reg(n_samples=100, n_features=10, n_nonzero=5,\n",
    "                                              random_state=1)\n",
    "\n",
    "plt.scatter(np.arange(len(coef)), coef)\n",
    "plt.title(\"True coefficient\")"
   ]
  },
  {
   "cell_type": "markdown",
   "metadata": {},
   "source": [
    "# Programatically generating estimators\n",
    "\n",
    "You can programatically create GLM loss + peanlty estimators"
   ]
  },
  {
   "cell_type": "code",
   "execution_count": 3,
   "metadata": {},
   "outputs": [
    {
     "name": "stdout",
     "output_type": "stream",
     "text": [
      "CPU times: user 778 ms, sys: 13.4 ms, total: 791 ms\n",
      "Wall time: 889 ms\n"
     ]
    }
   ],
   "source": [
    "# construct an Estimator with a corresponding\n",
    "# cross-validation estimator\n",
    "Est, EstCV = get_pen_glm(loss_func='lin_reg',\n",
    "                         penalty='lasso', # 'enet', 'adpt_lasso', 'adpt_enet', 'fcp_lla'\n",
    "                         backend='fista')\n",
    "\n",
    "est = Est(pen_val=1).fit(X, y) # single fit\n",
    "%time est_cv = EstCV().fit(X, y) # cross validation"
   ]
  },
  {
   "cell_type": "markdown",
   "metadata": {},
   "source": [
    "# andersoncd backend for linear regression"
   ]
  },
  {
   "cell_type": "code",
   "execution_count": 4,
   "metadata": {},
   "outputs": [
    {
     "name": "stdout",
     "output_type": "stream",
     "text": [
      "CPU times: user 2.3 s, sys: 63.7 ms, total: 2.37 s\n",
      "Wall time: 2.41 s\n"
     ]
    }
   ],
   "source": [
    "Est, EstCV = get_pen_glm(loss_func='lin_reg', penalty='lasso',\n",
    "                         backend='andersoncd')\n",
    "\n",
    "# andersoncd does not currently support intercepts\n",
    "%time est_cv = EstCV(estimator=Est(fit_intercept=False)).fit(X, y) \n",
    "# andersoncd should be faster than FISTA in higher dimensions!"
   ]
  },
  {
   "cell_type": "markdown",
   "metadata": {},
   "source": [
    "# Logistic Regression\n",
    "\n",
    "We can apply all our favorite penalties to logistic regression!"
   ]
  },
  {
   "cell_type": "code",
   "execution_count": 5,
   "metadata": {},
   "outputs": [],
   "source": [
    "# sample some logistic regression data\n",
    "# same coefficient as above\n",
    "X, y, probs, coef, intercept = sample_sparse_log_reg(n_samples=100, n_features=10, n_nonzero=5,\n",
    "                                                     random_state=1)"
   ]
  },
  {
   "cell_type": "code",
   "execution_count": 6,
   "metadata": {},
   "outputs": [
    {
     "name": "stdout",
     "output_type": "stream",
     "text": [
      "Lasso L2 to truth 1.1211348334707714\n",
      "ENet L2 to truth 0.9630396203100647\n",
      "Adaptive Lasso L2 to truth 0.5147703900551543\n",
      "SCAD L2 to truth 0.8401140167810839\n"
     ]
    }
   ],
   "source": [
    "# Lasso penalty\n",
    "Est, EstCV = get_pen_glm(loss_func='log_reg',\n",
    "                         penalty='lasso')\n",
    "est = EstCV().fit(X, y)\n",
    "print('Lasso L2 to truth', np.linalg.norm(est.best_estimator_.coef_ - coef))\n",
    "\n",
    "# ElasticNet\n",
    "Est, EstCV = get_pen_glm(loss_func='log_reg',\n",
    "                         penalty='enet')\n",
    "est = EstCV().fit(X, y)\n",
    "print('ENet L2 to truth', np.linalg.norm(est.best_estimator_.coef_ - coef))\n",
    "\n",
    "\n",
    "# Adaptive lasso\n",
    "Est, EstCV = get_pen_glm(loss_func='log_reg',\n",
    "                         penalty='adpt_lasso' # 'adpt_enet'\n",
    "                        )\n",
    "est = EstCV().fit(X, y)\n",
    "print('Adaptive Lasso L2 to truth', np.linalg.norm(est.best_estimator_.coef_ - coef))\n",
    "\n",
    "\n",
    "# folded concave penalty\n",
    "Est, EstCV = get_pen_glm(loss_func='log_reg', penalty='fcp_lla')\n",
    "est = EstCV().fit(X, y)\n",
    "print('SCAD L2 to truth', np.linalg.norm(est.best_estimator_.coef_ - coef))"
   ]
  },
  {
   "cell_type": "markdown",
   "metadata": {},
   "source": [
    "# Multiple response linear regression\n",
    "\n",
    "For multiple response linear regression we get a few additional penalties such as nuclear norm and the Row Lasso (L1 to L2 norm)."
   ]
  },
  {
   "cell_type": "code",
   "execution_count": 7,
   "metadata": {},
   "outputs": [
    {
     "data": {
      "text/plain": [
       "<AxesSubplot:>"
      ]
     },
     "execution_count": 7,
     "metadata": {},
     "output_type": "execute_result"
    },
    {
     "data": {
      "image/png": "[encoded data removed]",
      "text/plain": [
       "<Figure size 432x288 with 2 Axes>"
      ]
     },
     "metadata": {
      "needs_background": "light"
     },
     "output_type": "display_data"
    }
   ],
   "source": [
    "# multiple response linear regression with row sparsity\n",
    "# not this coefficent matrix is also low rank\n",
    "X, y, coef, intercept = sample_sparse_lin_reg(n_samples=100, n_features=10, n_nonzero=5,\n",
    "                                              n_responses=7, random_state=1)\n",
    "\n",
    "sns.heatmap(coef, center=0)"
   ]
  },
  {
   "cell_type": "code",
   "execution_count": 8,
   "metadata": {
    "scrolled": false
   },
   "outputs": [
    {
     "name": "stdout",
     "output_type": "stream",
     "text": [
      "Entrywise lasso L2 to truth 0.9119237212284282\n",
      "\n",
      "Multi-task Lasso L2 to truth 0.8684943342448098\n",
      "Adaptive multi-task lasso L2 to truth 0.7141545319969675\n",
      "FCP multi-task with LLA L2 to truth 0.7502835459738096\n",
      "\n",
      "Nuclear norm L2 to truth 0.7099944507829721\n",
      "Adaptive nuclear norm L2 to truth 0.47362674050743064\n",
      "FCP nuclear nrom with LLA L2 to truth 0.507907042256749\n"
     ]
    }
   ],
   "source": [
    "Est, EstCV = get_pen_glm(loss_func='lin_reg_mr', penalty='lasso')\n",
    "Est_adpt, EstCV_adpt = get_pen_glm(loss_func='lin_reg_mr', penalty='adpt_lasso')\n",
    "Est_fcp, EstCV_fcp = get_pen_glm(loss_func='lin_reg_mr', penalty='fcp_lla')\n",
    "\n",
    "\n",
    "# Entrywise Lasso\n",
    "est = EstCV().fit(X, y)\n",
    "print('Entrywise lasso L2 to truth', np.linalg.norm(est.best_estimator_.coef_ - coef))\n",
    "\n",
    "\n",
    "# Multi-task lasso\n",
    "est = EstCV(estimator=Est(multi_task=True)).fit(X, y)\n",
    "print('\\nMulti-task Lasso L2 to truth', np.linalg.norm(est.best_estimator_.coef_ - coef))\n",
    "\n",
    "# Multi-task lasso with folded concave penalty\n",
    "est = EstCV_adpt(Est_adpt(multi_task=True)).fit(X, y)\n",
    "print('Adaptive multi-task lasso L2 to truth', np.linalg.norm(est.best_estimator_.coef_ - coef))\n",
    "\n",
    "# Multi-task lasso with folded concave penalty\n",
    "est = EstCV_fcp(Est_fcp(multi_task=True)).fit(X, y)\n",
    "print('FCP multi-task with LLA L2 to truth', np.linalg.norm(est.best_estimator_.coef_ - coef))\n",
    "\n",
    "\n",
    "# Nuclear norm\n",
    "est = EstCV(estimator=Est(nuc=True)).fit(X, y)\n",
    "print('\\nNuclear norm L2 to truth', np.linalg.norm(est.best_estimator_.coef_ - coef))\n",
    "\n",
    "# Adaptive nuclear norm\n",
    "est = EstCV_adpt(Est_adpt(nuc=True)).fit(X, y)\n",
    "print('Adaptive nuclear norm L2 to truth', np.linalg.norm(est.best_estimator_.coef_ - coef))\n",
    "\n",
    "# Nuclear norm with folded concave penalty\n",
    "est = EstCV_fcp(Est_fcp(nuc=True)).fit(X, y)\n",
    "print('FCP nuclear nrom with LLA L2 to truth', np.linalg.norm(est.best_estimator_.coef_ - coef))"
   ]
  },
  {
   "cell_type": "code",
   "execution_count": null,
   "metadata": {},
   "outputs": [],
   "source": []
  }
 ],
 "metadata": {
  "kernelspec": {
   "display_name": "Python [conda env:root] *",
   "language": "python",
   "name": "conda-root-py"
  },
  "language_info": {
   "codemirror_mode": {
    "name": "ipython",
    "version": 3
   },
   "file_extension": ".py",
   "mimetype": "text/x-python",
   "name": "python",
   "nbconvert_exporter": "python",
   "pygments_lexer": "ipython3",
   "version": "3.7.4"
  }
 },
 "nbformat": 4,
 "nbformat_minor": 4
}
