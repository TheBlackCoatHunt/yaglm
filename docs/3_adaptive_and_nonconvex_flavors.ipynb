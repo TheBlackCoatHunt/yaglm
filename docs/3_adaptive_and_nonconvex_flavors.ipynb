{
 "cells": [
  {
   "cell_type": "code",
   "execution_count": 1,
   "metadata": {},
   "outputs": [
    {
     "name": "stderr",
     "output_type": "stream",
     "text": [
      "In /Users/iaincarmichael/anaconda3/lib/python3.7/site-packages/matplotlib/mpl-data/stylelib/_classic_test.mplstyle: \n",
      "The text.latex.preview rcparam was deprecated in Matplotlib 3.3 and will be removed two minor releases later.\n",
      "In /Users/iaincarmichael/anaconda3/lib/python3.7/site-packages/matplotlib/mpl-data/stylelib/_classic_test.mplstyle: \n",
      "The mathtext.fallback_to_cm rcparam was deprecated in Matplotlib 3.3 and will be removed two minor releases later.\n",
      "In /Users/iaincarmichael/anaconda3/lib/python3.7/site-packages/matplotlib/mpl-data/stylelib/_classic_test.mplstyle: Support for setting the 'mathtext.fallback_to_cm' rcParam is deprecated since 3.3 and will be removed two minor releases later; use 'mathtext.fallback : 'cm' instead.\n",
      "In /Users/iaincarmichael/anaconda3/lib/python3.7/site-packages/matplotlib/mpl-data/stylelib/_classic_test.mplstyle: \n",
      "The validate_bool_maybe_none function was deprecated in Matplotlib 3.3 and will be removed two minor releases later.\n",
      "In /Users/iaincarmichael/anaconda3/lib/python3.7/site-packages/matplotlib/mpl-data/stylelib/_classic_test.mplstyle: \n",
      "The savefig.jpeg_quality rcparam was deprecated in Matplotlib 3.3 and will be removed two minor releases later.\n",
      "In /Users/iaincarmichael/anaconda3/lib/python3.7/site-packages/matplotlib/mpl-data/stylelib/_classic_test.mplstyle: \n",
      "The keymap.all_axes rcparam was deprecated in Matplotlib 3.3 and will be removed two minor releases later.\n",
      "In /Users/iaincarmichael/anaconda3/lib/python3.7/site-packages/matplotlib/mpl-data/stylelib/_classic_test.mplstyle: \n",
      "The animation.avconv_path rcparam was deprecated in Matplotlib 3.3 and will be removed two minor releases later.\n",
      "In /Users/iaincarmichael/anaconda3/lib/python3.7/site-packages/matplotlib/mpl-data/stylelib/_classic_test.mplstyle: \n",
      "The animation.avconv_args rcparam was deprecated in Matplotlib 3.3 and will be removed two minor releases later.\n"
     ]
    }
   ],
   "source": [
    "import numpy as np\n",
    "import matplotlib.pyplot as plt\n",
    "\n",
    "from ya_glm.toy_data import sample_sparse_lin_reg\n",
    "\n",
    "from ya_glm.Glm import Glm\n",
    "from ya_glm.GlmTuned import GlmCV\n",
    "\n",
    "from ya_glm.config.penalty import Lasso, Ridge\n",
    "from ya_glm.config.flavor import Adaptive, NonConvex\n",
    "from ya_glm.solver.LLA import LLAFixedInit"
   ]
  },
  {
   "cell_type": "code",
   "execution_count": 2,
   "metadata": {},
   "outputs": [],
   "source": [
    "# sample data from a toy linear regression model\n",
    "X, y, model_info = sample_sparse_lin_reg(n_samples=100,\n",
    "                                         n_features=10,\n",
    "                                         beta_type=1,\n",
    "                                         random_state=1)"
   ]
  },
  {
   "cell_type": "markdown",
   "metadata": {},
   "source": [
    "# Adaptive Lasso\n",
    "\n",
    "Every convex, non-smooth penalty can come in an adaptive flavor."
   ]
  },
  {
   "cell_type": "code",
   "execution_count": 3,
   "metadata": {
    "scrolled": false
   },
   "outputs": [],
   "source": [
    "# linear regression with an adaptive Lasso\n",
    "adaptive_lasso = Glm(penalty=Lasso(pen_val=1, flavor=Adaptive()) # flavor is apart of the penalty\n",
    "                    ).fit(X, y)\n",
    "\n",
    "\n",
    "# the Adaptive() config can set the exponent parameter\n",
    "adaptive_lasso = Glm(penalty=Lasso(pen_val=1, flavor=Adaptive(expon=0.5)) \n",
    "                    ).fit(X, y)\n",
    "\n",
    "\n",
    "# tune adaptive Lasso with cross-validation\n",
    "adaptive_lasso = GlmCV(penalty=Lasso(flavor=Adaptive())\n",
    "                       ).fit(X, y)"
   ]
  },
  {
   "cell_type": "code",
   "execution_count": 4,
   "metadata": {},
   "outputs": [
    {
     "data": {
      "text/plain": [
       "GlmCV(initializer=GlmCV(cv=10,\n",
       "                        penalty=<ya_glm.config.penalty.Lasso object at 0x7fa8d659c0d0>),\n",
       "      penalty=<ya_glm.config.penalty.Lasso object at 0x7fa8d659c550>)"
      ]
     },
     "execution_count": 4,
     "metadata": {},
     "output_type": "execute_result"
    }
   ],
   "source": [
    "# adaptive estimators are two stage estimators that require \n",
    "# fit fitting an initializer. By default the initializer is the same estimator\n",
    "# but with flavor=None\n",
    "\n",
    "GlmCV(penalty=Lasso(flavor=Adaptive()),\n",
    "      initializer='default'  # this is the default argument\n",
    "     )\n",
    "\n",
    "# this is the same estimator as above\n",
    "GlmCV(penalty=Lasso(flavor=Adaptive()),\n",
    "      initializer=GlmCV(penalty=Lasso())  # this will be the default\n",
    "     )\n",
    "\n",
    "# but you can of course provide your own custom initializers e.g.\n",
    "initializer = GlmCV(penalty=Lasso(),\n",
    "                    cv=10 # use 10 fold CV instead of the default 5 folds\n",
    "                    )  #.fit(X, y) Optinally fit ahead of time\n",
    "\n",
    "GlmCV(penalty=Lasso(flavor=Adaptive()),\n",
    "      initializer=initializer\n",
    "     )\n"
   ]
  },
  {
   "cell_type": "markdown",
   "metadata": {},
   "source": [
    "# Tuning the flavor"
   ]
  },
  {
   "cell_type": "code",
   "execution_count": 5,
   "metadata": {},
   "outputs": [],
   "source": [
    "# we can tune over both the penalty value and the adaptive exponent\n",
    "expon_seq = [1, .5, 0.25]\n",
    "penalty = Lasso(flavor=Adaptive().tune(expon=expon_seq))\n",
    "              \n",
    "adaptive_lasso = GlmCV(penalty=penalty).fit(X, y)"
   ]
  },
  {
   "cell_type": "markdown",
   "metadata": {},
   "source": [
    "# Non-convex penalties\n",
    "\n",
    "There are two ways we handle non-convex penalties\n",
    "\n",
    "- LLA algorithm from a fixed initializer, see (Fan et al, 2014)\n",
    "- Direct solution; run something like proximal gradient or coordinate descent directly only the non-convex problem.\n",
    "\n",
    "For the LLA algorithm we require a \"good enough\" initializer; this is typically a tuned Lasso. For the direct solution we give the optional to either use a good initializer or a naive initializer (e.g. zero)."
   ]
  },
  {
   "cell_type": "markdown",
   "metadata": {},
   "source": [
    "### LLA"
   ]
  },
  {
   "cell_type": "code",
   "execution_count": 6,
   "metadata": {},
   "outputs": [],
   "source": [
    "# Use the LLA algorithm with a good initializer\n",
    "# note by default we only take 1 LLA step\n",
    "est = GlmCV(penalty=Lasso(flavor=NonConvex()),\n",
    "            lla=True,\n",
    "            initializer='default' # this will tune a Lasso via cross-validation\n",
    "            ).fit(X, y)\n"
   ]
  },
  {
   "cell_type": "code",
   "execution_count": 7,
   "metadata": {},
   "outputs": [
    {
     "data": {
      "text/plain": [
       "Glm(lla=<ya_glm.solver.LLA.LLAFixedInit object at 0x7fa8d700dc10>,\n",
       "    penalty=<ya_glm.config.penalty.Lasso object at 0x7fa8d700dd90>)"
      ]
     },
     "execution_count": 7,
     "metadata": {},
     "output_type": "execute_result"
    }
   ],
   "source": [
    "# the non-convex function can be specified in the flavor \n",
    "penalty = Lasso(pen_val=1,\n",
    "                flavor=NonConvex(pen_func='scad',\n",
    "                                 second_param_val=3.7) # this is the a parameter\n",
    "               )\n",
    "\n",
    "# the LLA algorithm can also be specified in the flavor\n",
    "Glm(penalty=penalty,\n",
    "    lla=LLAFixedInit(n_steps=100, atol=1e-5)  # take more than 1 LLA steps\n",
    "    ).fit(X, y)"
   ]
  },
  {
   "cell_type": "code",
   "execution_count": 8,
   "metadata": {},
   "outputs": [],
   "source": [
    "# we can tune over the flavor's second_param_val\n",
    "# e.g. this is the a parameter to scad\n",
    "param_val_seq = np.arange(3, 8)\n",
    "flavor = NonConvex().tune(second_param_val=param_val_seq)\n",
    "\n",
    "est = GlmCV(penalty=Lasso(flavor=flavor))"
   ]
  },
  {
   "cell_type": "markdown",
   "metadata": {},
   "source": [
    "### Direct"
   ]
  },
  {
   "cell_type": "code",
   "execution_count": 9,
   "metadata": {},
   "outputs": [],
   "source": [
    "# non-convex direct solution\n",
    "# here we use FISTA directly on the non-convex problem\n",
    "# by default we initialize from zero\n",
    "est = GlmCV(penalty=Lasso(flavor=NonConvex()),\n",
    "            lla=False, # use the FISTA solver, not the LLA algorithm\n",
    "            initializer='default' # this will initializer from zero by default\n",
    "            ).fit(X, y)"
   ]
  },
  {
   "cell_type": "markdown",
   "metadata": {},
   "source": [
    "# Comparison\n"
   ]
  },
  {
   "cell_type": "code",
   "execution_count": 10,
   "metadata": {},
   "outputs": [],
   "source": [
    "from time import time\n",
    "import pandas as pd\n",
    "\n",
    "from ya_glm.infer.Inferencer import Inferencer \n",
    "from ya_glm.metrics.info_criteria import InfoCriteria\n",
    "from ya_glm.GlmTuned import GlmTrainMetric"
   ]
  },
  {
   "cell_type": "code",
   "execution_count": 11,
   "metadata": {},
   "outputs": [],
   "source": [
    "# sample data from a toy linear regression model\n",
    "# play around with this toy distribution and see what happens!\n",
    "X, y, model_info = sample_sparse_lin_reg(n_samples=100, n_features=10,\n",
    "                                         n_nonzero=5,\n",
    "                                         beta_type=1, snr=5,\n",
    "                                         random_state=1)\n",
    "\n",
    "true_coef = model_info['coef']\n",
    "sigma_true = model_info['noise_std']"
   ]
  },
  {
   "cell_type": "code",
   "execution_count": 12,
   "metadata": {},
   "outputs": [],
   "source": [
    "# use Lasso CV as initializer for all two stage algorithms\n",
    "lasso_cv = GlmCV(penalty=Lasso(), n_jobs=-1)\n",
    "\n",
    "# the congergence LLA algorithm\n",
    "lla_converge = LLAFixedInit(n_steps=1000)\n",
    "\n",
    "\n",
    "crit = 'ebic'\n",
    "models = {\n",
    "    \n",
    "         ###############################\n",
    "         # Cross-validation selection #\n",
    "         ##############################\n",
    "\n",
    "         # Adaptive Lasso\n",
    "         'adpt_lasso_cv': GlmCV(penalty=Lasso(flavor=Adaptive()),\n",
    "                                initializer=lasso_cv,\n",
    "                                n_jobs=-1),\n",
    "\n",
    "         # LLA with 1 LLA step\n",
    "         'nc_lla_1_cv': GlmCV(penalty=Lasso(flavor=NonConvex()),\n",
    "                              lla=True,\n",
    "                              initializer=lasso_cv,\n",
    "                              n_jobs=-1),\n",
    "\n",
    "         # LLA with many steps (hopfully to convergence)\n",
    "         'nc_lla_many_cv': GlmCV(penalty=Lasso(flavor=NonConvex()),\n",
    "                                 lla=lla_converge,\n",
    "                                 initializer=lasso_cv,\n",
    "                                 n_jobs=-1),\n",
    "    \n",
    "          # Non-convex direction, init from zero\n",
    "          'nc_direct_0_cv': GlmCV(penalty=Lasso(flavor=NonConvex()),\n",
    "                                  lla=False,\n",
    "                                  initializer='zero',\n",
    "                                  n_jobs=-1),\n",
    "    \n",
    "          # Non-convex direction, init from lasso\n",
    "          'nc_direct_lasso_cv': GlmCV(penalty=Lasso(flavor=NonConvex()),\n",
    "                                      lla=False,\n",
    "                                      initializer=lasso_cv,\n",
    "                                      n_jobs=-1),\n",
    "\n",
    "\n",
    "         #######################\n",
    "         # Infomation criteria #\n",
    "         #######################\n",
    "         # we will cheat and assume we know the true noise standard deviation\n",
    "\n",
    "        'lasso_ebic': GlmTrainMetric(penalty=Lasso(),\n",
    "                                     n_jobs=-1,\n",
    "                                          \n",
    "                                     inferencer = Inferencer(scale=sigma_true),\n",
    "                                     scorer = InfoCriteria(crit=crit)\n",
    "                                     ),\n",
    "    \n",
    "\n",
    "        'adpt_lasso_ebic': GlmTrainMetric(penalty=Lasso(flavor=Adaptive()),\n",
    "                                          initializer=lasso_cv,\n",
    "                                          n_jobs=-1,\n",
    "                                          \n",
    "                                          inferencer = Inferencer(scale=sigma_true),\n",
    "                                          scorer = InfoCriteria(crit=crit)\n",
    "                                          ),\n",
    "    \n",
    "        'nc_lla_1_ebic': GlmTrainMetric(penalty=Lasso(flavor=NonConvex()),\n",
    "                                        lla=True,\n",
    "                                        initializer=lasso_cv,\n",
    "                                        n_jobs=-1,\n",
    "                                          \n",
    "                                         inferencer = Inferencer(scale=sigma_true),\n",
    "                                         scorer = InfoCriteria(crit=crit)\n",
    "                                         ),\n",
    "    \n",
    "        'nc_lla_many_ebic': GlmTrainMetric(penalty=Lasso(flavor=NonConvex()),\n",
    "                                           lla=lla_converge,\n",
    "\n",
    "                                            initializer=lasso_cv,\n",
    "                                            n_jobs=-1,\n",
    "                                          \n",
    "                                            inferencer = Inferencer(scale=sigma_true),\n",
    "                                            scorer = InfoCriteria(crit=crit)\n",
    "                                            ),\n",
    "    \n",
    "\n",
    "        'nc_direct_0_ebic': GlmTrainMetric(penalty=Lasso(flavor=NonConvex()),\n",
    "                                           lla=False,\n",
    "                                           initializer='zero',\n",
    "                                           n_jobs=-1,\n",
    "\n",
    "                                           inferencer = Inferencer(scale=sigma_true),\n",
    "                                           scorer = InfoCriteria(crit=crit)\n",
    "                                           ),\n",
    "    \n",
    "        'nc_direct_lasso_ebic': GlmTrainMetric(penalty=Lasso(flavor=NonConvex()),\n",
    "                                               lla=False,\n",
    "                                               initializer=lasso_cv,\n",
    "                                               n_jobs=-1,\n",
    "                                          \n",
    "                                               inferencer = Inferencer(scale=sigma_true),\n",
    "                                               scorer = InfoCriteria(crit=crit)\n",
    "                                              )\n",
    "\n",
    "         }"
   ]
  },
  {
   "cell_type": "code",
   "execution_count": 13,
   "metadata": {
    "scrolled": false
   },
   "outputs": [
    {
     "data": {
      "text/plain": [
       "lasso_ebic              0.213257\n",
       "adpt_lasso_ebic         0.317863\n",
       "nc_direct_0_ebic        0.323346\n",
       "nc_lla_1_ebic           0.331130\n",
       "nc_direct_lasso_ebic    0.333384\n",
       "nc_lla_many_ebic        0.559323\n",
       "adpt_lasso_cv           1.195305\n",
       "lasso_cv                1.199006\n",
       "nc_lla_1_cv             1.321387\n",
       "nc_direct_0_cv          1.935272\n",
       "nc_direct_lasso_cv      2.041523\n",
       "nc_lla_many_cv          4.389096\n",
       "Name: runtime, dtype: float64"
      ]
     },
     "execution_count": 13,
     "metadata": {},
     "output_type": "execute_result"
    }
   ],
   "source": [
    "runtimes = {} \n",
    "\n",
    "# fit initializer first\n",
    "start_time = time()\n",
    "lasso_cv = lasso_cv.fit(X, y)\n",
    "runtimes['lasso_cv'] = time() - start_time\n",
    "\n",
    "# fit each estimator\n",
    "for name, est in models.items():\n",
    "    start_time = time()\n",
    "    est.fit(X, y)\n",
    "    runtimes[name] = time() - start_time\n",
    "    \n",
    "models['lasso_cv'] = lasso_cv\n",
    "\n",
    "pd.Series(runtimes, name='runtime').sort_values()"
   ]
  },
  {
   "cell_type": "code",
   "execution_count": 14,
   "metadata": {},
   "outputs": [
    {
     "data": {
      "text/plain": [
       "lasso_ebic              0.466964\n",
       "adpt_lasso_ebic         0.492280\n",
       "adpt_lasso_cv           0.494101\n",
       "nc_direct_0_cv          0.496399\n",
       "nc_direct_0_ebic        0.496414\n",
       "nc_direct_lasso_ebic    0.496414\n",
       "nc_lla_many_ebic        0.496414\n",
       "nc_lla_1_ebic           0.496415\n",
       "nc_lla_1_cv             0.502092\n",
       "nc_lla_many_cv          0.584293\n",
       "lasso_cv                0.658212\n",
       "nc_direct_lasso_cv      0.770018\n",
       "Name: coefficient error, dtype: float64"
      ]
     },
     "execution_count": 14,
     "metadata": {},
     "output_type": "execute_result"
    }
   ],
   "source": [
    "# compute L1 error from estimate to truth\n",
    "coef_errs = {}\n",
    "for name, est in models.items():\n",
    "    coef_errs[name] = abs(est.coef_ - true_coef).sum()\n",
    "    \n",
    "    \n",
    "pd.Series(coef_errs, name='coefficient error').sort_values()"
   ]
  },
  {
   "cell_type": "code",
   "execution_count": 15,
   "metadata": {},
   "outputs": [
    {
     "data": {
      "text/plain": [
       "Text(0.5, 1.0, 'Estimated Coefficients')"
      ]
     },
     "execution_count": 15,
     "metadata": {},
     "output_type": "execute_result"
    },
    {
     "data": {
      "image/png": "[encoded data removed]",
      "text/plain": [
       "<Figure size 576x576 with 1 Axes>"
      ]
     },
     "metadata": {
      "needs_background": "light"
     },
     "output_type": "display_data"
    }
   ],
   "source": [
    "# plot estimated coefficients\n",
    "# Ok I've made better plots in my life, but this is just for quick illustration purposes!\n",
    "idxs = np.arange(len(true_coef))\n",
    "\n",
    "plt.figure(figsize=(8, 8))\n",
    "plt.scatter(idxs, true_coef, label='Truth', marker='x', s=100)\n",
    "\n",
    "\n",
    "for name, est in models.items():\n",
    "    if name.endswith(\"cv\"):\n",
    "        marker = '*'\n",
    "    else:\n",
    "        marker = '+'\n",
    "    \n",
    "    plt.scatter(idxs, est.coef_, label=name, marker=marker)\n",
    "    \n",
    "    \n",
    "plt.legend()\n",
    "plt.xlabel(\"Feature Index\")\n",
    "plt.ylabel(\"Value\")\n",
    "plt.axhline(0, color='black')\n",
    "\n",
    "plt.title(\"Estimated Coefficients\")"
   ]
  }
 ],
 "metadata": {
  "kernelspec": {
   "display_name": "Python [conda env:root] *",
   "language": "python",
   "name": "conda-root-py"
  },
  "language_info": {
   "codemirror_mode": {
    "name": "ipython",
    "version": 3
   },
   "file_extension": ".py",
   "mimetype": "text/x-python",
   "name": "python",
   "nbconvert_exporter": "python",
   "pygments_lexer": "ipython3",
   "version": "3.7.4"
  }
 },
 "nbformat": 4,
 "nbformat_minor": 2
}
