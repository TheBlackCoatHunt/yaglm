{
 "cells": [
  {
   "cell_type": "markdown",
   "metadata": {},
   "source": [
    "# Estimating the linear regression noise variance\n",
    "\n",
    "This notebook demonstrates some example methods to estimate the noise variance, $\\sigma^2$, for a linear regression model\n",
    "\n",
    "$$\n",
    "y = x^T \\beta + \\sigma \\epsilon.\n",
    "$$\n",
    "\n",
    "This is quite challenging in high-dimensional settings e.g. the usual estimate based on the residual sum of squares (RSS) fails.\n",
    "\n",
    "The noise variance is used, among other places, for information criteria based tuning parameter selection methods. If you care about model selection then recent work (Zhang et al, 2010) says you should use a BIC-like information criteria (i.e. not cross-validation). \n",
    "\n",
    "\n",
    "\n",
    "#### Currently support methods\n",
    "\n",
    "We currently support the following estimators for $\\sigma$\n",
    "\n",
    "- The natural lasso (Yu and Bien, 2019)\n",
    "\n",
    "- The RSS based estimate from a tuned Lasso (Reid et al, 2016)\n",
    "\n",
    "- A ridge regression based estimate (Liu, 2020)\n",
    "\n",
    "\n",
    "The first two of these require tuning a Lasso penalized estimate (e.g. via cross-validation) while the latter fits a single ridge regression estiate. \n",
    "\n",
    "\n",
    "\n",
    "### References\n",
    "\n",
    "Zhang, Y., Li, R. and Tsai, C.L., 2010. Regularization parameter selections via generalized information criterion. Journal of the American Statistical Association, 105(489), pp.312-323.\n",
    "\n",
    "Reid, S., Tibshirani, R. and Friedman, J., 2016. A study of error variance estimation in lasso regression. Statistica Sinica, pp.35-67.\n",
    "\n",
    "Hastie, T., Tibshirani, R. and Tibshirani, R.J., 2017. Extended comparisons of best subset selection, forward stepwise selection, and the lasso. arXiv preprint arXiv:1707.08692.\n",
    "\n",
    "Yu, G. and Bien, J., 2019. Estimating the error variance in a high-dimensional linear model. Biometrika, 106(3), pp.533-546.\n",
    "\n",
    "Liu, X., Zheng, S. and Feng, X., 2020. Estimation of error variance via ridge regression. Biometrika, 107(2), pp.481-488."
   ]
  },
  {
   "cell_type": "markdown",
   "metadata": {},
   "source": [
    "# sample toy data\n",
    "\n",
    "Sample linear regression data following one of the distribution discussed in Section 3 of (Hastie et al, 2017)."
   ]
  },
  {
   "cell_type": "code",
   "execution_count": 1,
   "metadata": {},
   "outputs": [],
   "source": [
    "from ya_glm.toy_data import sample_sparse_lin_reg"
   ]
  },
  {
   "cell_type": "code",
   "execution_count": 98,
   "metadata": {},
   "outputs": [
    {
     "name": "stdout",
     "output_type": "stream",
     "text": [
      "True noise std: 3.1622776601683795\n"
     ]
    }
   ],
   "source": [
    "# setup distribution\n",
    "n_samples = 100\n",
    "n_features = 500\n",
    "n_nonzero = 10\n",
    "snr = 1\n",
    "beta_type = 1\n",
    "corr = 0.3\n",
    "\n",
    "# sample data\n",
    "X, y, info = sample_sparse_lin_reg(n_samples=n_samples, n_features=n_features,\n",
    "                                   n_nonzero=n_nonzero,\n",
    "                                   beta_type=beta_type, corr=corr,\n",
    "                                   snr=snr, random_state=0)\n",
    "\n",
    "true_noise_std = info['noise_std']\n",
    "print('True noise std: {}'.format(true_noise_std))"
   ]
  },
  {
   "cell_type": "markdown",
   "metadata": {},
   "source": [
    "# try various estimators"
   ]
  },
  {
   "cell_type": "code",
   "execution_count": 99,
   "metadata": {},
   "outputs": [],
   "source": [
    "import numpy as np\n",
    "from ya_glm.models.Lasso import LassoCV\n",
    "\n",
    "from ya_glm.tune.lin_reg_var import lin_reg_var_via_ridge, \\\n",
    "    lin_reg_var_natural_lasso, lin_reg_var_from_rss_of_sel"
   ]
  },
  {
   "cell_type": "code",
   "execution_count": 100,
   "metadata": {},
   "outputs": [
    {
     "name": "stdout",
     "output_type": "stream",
     "text": [
      "Ridge estimate: 4.520698074989474\n"
     ]
    }
   ],
   "source": [
    "ridge_est_var = lin_reg_var_via_ridge(X, y)\n",
    "print(\"Ridge estimate: {}\".format(np.sqrt(ridge_est_var)))"
   ]
  },
  {
   "cell_type": "code",
   "execution_count": 101,
   "metadata": {},
   "outputs": [],
   "source": [
    "# for the next two estimators we need to first tune a Lasso\n",
    "est_cv = LassoCV(cv=5).fit(X, y)\n",
    "\n",
    "est_ceof = est_cv.best_estimator_.coef_\n",
    "est_intercept = est_cv.best_estimator_.intercept_"
   ]
  },
  {
   "cell_type": "code",
   "execution_count": 102,
   "metadata": {},
   "outputs": [
    {
     "name": "stdout",
     "output_type": "stream",
     "text": [
      "RSS of tuned Lasso estimate: 4.515077129871736\n"
     ]
    }
   ],
   "source": [
    "# lasso selected RSS\n",
    "rss_lasso_est_var = lin_reg_var_from_rss_of_sel(X=X, y=y,\n",
    "                                                coef=est_ceof,\n",
    "                                                intercept=est_intercept)\n",
    "\n",
    "print(\"RSS of tuned Lasso estimate: {}\".format(np.sqrt(rss_lasso_est_var)))"
   ]
  },
  {
   "cell_type": "code",
   "execution_count": 103,
   "metadata": {},
   "outputs": [
    {
     "name": "stdout",
     "output_type": "stream",
     "text": [
      "Natural Lasso estimate: 4.482135258919333\n"
     ]
    }
   ],
   "source": [
    "# natural lasso\n",
    "nat_est_var = lin_reg_var_natural_lasso(X=X, y=y,\n",
    "                                        coef=est_ceof,\n",
    "                                        intercept=est_intercept)\n",
    "\n",
    "print(\"Natural Lasso estimate: {}\".format(np.sqrt(nat_est_var)))"
   ]
  }
 ],
 "metadata": {
  "kernelspec": {
   "display_name": "Python [conda env:root] *",
   "language": "python",
   "name": "conda-root-py"
  },
  "language_info": {
   "codemirror_mode": {
    "name": "ipython",
    "version": 3
   },
   "file_extension": ".py",
   "mimetype": "text/x-python",
   "name": "python",
   "nbconvert_exporter": "python",
   "pygments_lexer": "ipython3",
   "version": "3.7.4"
  }
 },
 "nbformat": 4,
 "nbformat_minor": 2
}
