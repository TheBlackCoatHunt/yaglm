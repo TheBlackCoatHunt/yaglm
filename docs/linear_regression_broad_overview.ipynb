{
 "cells": [
  {
   "cell_type": "markdown",
   "metadata": {},
   "source": [
    "# A broad overview of linear regression basic functionality"
   ]
  },
  {
   "cell_type": "markdown",
   "metadata": {},
   "source": [
    "This notebook walks through the basic functionality of the `ya_glm` package for linear regression. Some of this overlaps with existing sklearn functionality in which case we get the same answer. Some of this is not in sklearn e.g. Tikhonov, concave penalties, user specified group Lasso."
   ]
  },
  {
   "cell_type": "code",
   "execution_count": 28,
   "metadata": {},
   "outputs": [],
   "source": [
    "import matplotlib.pyplot as plt\n",
    "import numpy as np\n",
    "\n",
    "from ya_glm.backends.fista.LinearRegression import Vanilla,\\\n",
    "    Lasso, Ridge, ENet, \\\n",
    "    LassoCV, RidgeCV, ENetCV,\\\n",
    "    AdaptiveLasso, AdaptiveENet,\\\n",
    "    AdaptiveLassoCV, AdaptiveENetCV,\\\n",
    "    FcpLLA, FcpLLACV\n",
    "\n",
    "# useful functionality for cross-validations\n",
    "from ya_glm.glm_loss.linear_regression import LinRegScorer\n",
    "from ya_glm.cv.cv_viz import plot_cv_path\n",
    "\n",
    "from ya_glm.toy_data import sample_sparse_lin_reg\n",
    "\n",
    "# Let's make sure our algorithms give the same answer as sklearn\n",
    "from sklearn.linear_model import LinearRegression as LinRegSklearn\n",
    "from sklearn.linear_model import Lasso as LassoSklearn\n",
    "from sklearn.linear_model import Ridge as RidgeSklearn\n",
    "from sklearn.linear_model import ElasticNet as ENetSklearn\n",
    "\n",
    "from sklearn.linear_model import LassoCV as LassoCVSklearn\n",
    "from sklearn.linear_model import RidgeCV as RidgeCVSklearn\n",
    "from sklearn.linear_model import ElasticNetCV as ElasticNetCVSklearn"
   ]
  },
  {
   "cell_type": "code",
   "execution_count": 2,
   "metadata": {},
   "outputs": [
    {
     "data": {
      "text/plain": [
       "Text(0.5, 1.0, 'True coefficient')"
      ]
     },
     "execution_count": 2,
     "metadata": {},
     "output_type": "execute_result"
    },
    {
     "data": {
      "image/png": "[encoded data removed]",
      "text/plain": [
       "<Figure size 432x288 with 1 Axes>"
      ]
     },
     "metadata": {
      "needs_background": "light"
     },
     "output_type": "display_data"
    }
   ],
   "source": [
    "# sample some linear regression data with a sparse coefficient\n",
    "X, y, coef_true, intercept_true = \\\n",
    "    sample_sparse_lin_reg(n_samples=100, n_features=10, n_nonzero=5,\n",
    "                          noise_std=1,\n",
    "                          random_state=234)\n",
    "\n",
    "plt.scatter(np.arange(len(coef_true)), coef_true)\n",
    "plt.title(\"True coefficient\")"
   ]
  },
  {
   "cell_type": "code",
   "execution_count": 3,
   "metadata": {},
   "outputs": [],
   "source": [
    "def print_error(a, b, to=None):\n",
    "    err = abs(a - b).sum()\n",
    "    if to is not None:\n",
    "        print('L1 norm of difference to {}: {:1.6f}'.format(to, err))\n",
    "    else:\n",
    "        print('L1 norm of difference: {:1.6f}'.format(err))"
   ]
  },
  {
   "cell_type": "markdown",
   "metadata": {},
   "source": [
    "# Vanilla linear regression\n",
    "\n",
    "Let's check we get the same answer as sklearn for basic linear regression"
   ]
  },
  {
   "cell_type": "code",
   "execution_count": 4,
   "metadata": {},
   "outputs": [
    {
     "name": "stdout",
     "output_type": "stream",
     "text": [
      "CPU times: user 13.7 ms, sys: 2.96 ms, total: 16.6 ms\n",
      "Wall time: 14.5 ms\n",
      "CPU times: user 926 µs, sys: 203 µs, total: 1.13 ms\n",
      "Wall time: 1.05 ms\n",
      "L1 norm of difference to sklearn: 0.000132\n"
     ]
    }
   ],
   "source": [
    "%time est = Vanilla().fit(X, y)\n",
    "\n",
    "%time est_sk = LinRegSklearn().fit(X, y)\n",
    "\n",
    "# double check we get the same answer as sklearn!\n",
    "print_error(est.coef_, est_sk.coef_, to='sklearn')"
   ]
  },
  {
   "cell_type": "markdown",
   "metadata": {},
   "source": [
    "# Lasso\n",
    "\n",
    "Similarly let's check we match sklearn for Lasso"
   ]
  },
  {
   "cell_type": "code",
   "execution_count": 5,
   "metadata": {},
   "outputs": [
    {
     "name": "stdout",
     "output_type": "stream",
     "text": [
      "CPU times: user 12.2 ms, sys: 2.86 ms, total: 15 ms\n",
      "Wall time: 12.9 ms\n",
      "CPU times: user 1.02 ms, sys: 289 µs, total: 1.31 ms\n",
      "Wall time: 1.28 ms\n",
      "L1 norm of difference to sklearn: 0.000000\n"
     ]
    }
   ],
   "source": [
    "pen_val = 2\n",
    "\n",
    "%time est = Lasso(pen_val=pen_val).fit(X, y)\n",
    "\n",
    "%time est_sk = LassoSklearn(alpha=pen_val).fit(X, y)\n",
    "\n",
    "# double check we get the same answer as sklearn!\n",
    "print_error(est.coef_, est_sk.coef_, 'sklearn')"
   ]
  },
  {
   "cell_type": "markdown",
   "metadata": {},
   "source": [
    "### Lasso with Cross-Validation\n",
    "\n",
    "Just like in LassoCV we can run cross-validation using a path/homomtopy algorithm to make computing the whole training path very fast!"
   ]
  },
  {
   "cell_type": "code",
   "execution_count": 6,
   "metadata": {
    "scrolled": false
   },
   "outputs": [
    {
     "name": "stdout",
     "output_type": "stream",
     "text": [
      "CPU times: user 52 ms, sys: 2.71 ms, total: 54.7 ms\n",
      "Wall time: 53.2 ms\n",
      "CPU times: user 1.34 s, sys: 33.1 ms, total: 1.37 s\n",
      "Wall time: 1.47 s\n"
     ]
    },
    {
     "data": {
      "text/plain": [
       "LassoCV(cv_scorer=<ya_glm.glm_loss.linear_regression.LinRegScorer object at 0x7fc22514f810>,\n",
       "        estimator=Lasso(fit_intercept=False))"
      ]
     },
     "execution_count": 6,
     "metadata": {},
     "output_type": "execute_result"
    }
   ],
   "source": [
    "%time est_sk = LassoCVSklearn(fit_intercept=False).fit(X, y) \n",
    "\n",
    "# fits with Lasso homotopy path algorithm\n",
    "\n",
    "# notice we pass in a Lasso base class into estimator()\n",
    "# this is how we control the arguments to Lasso e.g. fit_intercept\n",
    "\n",
    "# also notice we pass in the (optional) LinRegScorer() -- this tracks \n",
    "# additional data during cross-validation e.g. the number of non-zero coefficients\n",
    "est_path = LassoCV(estimator=Lasso(fit_intercept=False),\n",
    "                   cv_scorer=LinRegScorer())\n",
    "%time est_path.fit(X, y) # fits with Lasso homotopy path algorithm"
   ]
  },
  {
   "cell_type": "code",
   "execution_count": 7,
   "metadata": {},
   "outputs": [
    {
     "name": "stdout",
     "output_type": "stream",
     "text": [
      "L1 norm of difference to true coefficient: 0.973099\n",
      "L1 norm of difference to true coefficient: 0.973033\n"
     ]
    }
   ],
   "source": [
    "# Let's see how far our estimate is from the true coefficient\n",
    "print_error(est_path.best_estimator_.coef_, coef_true, 'true coefficient')\n",
    "print_error(est_sk.coef_, coef_true, 'true coefficient')"
   ]
  },
  {
   "cell_type": "markdown",
   "metadata": {},
   "source": [
    "### Lasso Path visualizations\n",
    "\n",
    "We include some very basic visualizations for the cross-validation path. For example, we can see the range of number of non-zero coefficients computed along the tuning path. This allows us to double check we fit the entire ``reasonable\" range of tuning parameters."
   ]
  },
  {
   "cell_type": "code",
   "execution_count": 8,
   "metadata": {},
   "outputs": [
    {
     "data": {
      "text/plain": [
       "Text(0.5, 1.0, 'Lasso tuning path support size of cv train coef')"
      ]
     },
     "execution_count": 8,
     "metadata": {},
     "output_type": "execute_result"
    },
    {
     "data": {
      "image/png": "[encoded data removed]",
      "text/plain": [
       "<Figure size 432x288 with 1 Axes>"
      ]
     },
     "metadata": {
      "needs_background": "light"
     },
     "output_type": "display_data"
    },
    {
     "data": {
      "image/png": "[encoded data removed]",
      "text/plain": [
       "<Figure size 432x288 with 1 Axes>"
      ]
     },
     "metadata": {
      "needs_background": "light"
     },
     "output_type": "display_data"
    }
   ],
   "source": [
    "plt.figure()\n",
    "plot_cv_path(cv_results=est_path.cv_results_,\n",
    "             param='pen_val', metric='r2',\n",
    "             log_param=True,\n",
    "             selected_idx=est_path.best_tune_idx_)\n",
    "plt.title(\"Lasso tuning path scores\")\n",
    "\n",
    "\n",
    "plt.figure()\n",
    "plot_cv_path(cv_results=est_path.cv_results_,\n",
    "             param='pen_val', metric='n_nonzero',\n",
    "             log_param=True,\n",
    "             show_train=False,\n",
    "             selected_idx=est_path.best_tune_idx_)\n",
    "plt.title(\"Lasso tuning path support size of cv train coef\")"
   ]
  },
  {
   "cell_type": "markdown",
   "metadata": {},
   "source": [
    "# Ridge\n",
    "\n",
    "Ok now let's check ridge regression"
   ]
  },
  {
   "cell_type": "code",
   "execution_count": 9,
   "metadata": {},
   "outputs": [
    {
     "name": "stdout",
     "output_type": "stream",
     "text": [
      "CPU times: user 13.9 ms, sys: 2.62 ms, total: 16.5 ms\n",
      "Wall time: 14.6 ms\n",
      "CPU times: user 633 µs, sys: 110 µs, total: 743 µs\n",
      "Wall time: 672 µs\n",
      "L1 norm of difference: 0.000060\n"
     ]
    }
   ],
   "source": [
    "pen_val = 2\n",
    "\n",
    "%time est = Ridge(pen_val=pen_val).fit(X, y)\n",
    "\n",
    "# sklearn scales the ridge regression loss differently so we need to \n",
    "# scale the tuning parameter accordingly\n",
    "%time est_sk = RidgeSklearn(alpha=X.shape[0] * pen_val).fit(X, y)\n",
    "\n",
    "# check we get the same answer\n",
    "print_error(est.coef_, est_sk.coef_)"
   ]
  },
  {
   "cell_type": "markdown",
   "metadata": {},
   "source": [
    "### Ridge with CV\n",
    "\n",
    "Our ridge CV comes with a guess at the reasonable range of tuning parameter values."
   ]
  },
  {
   "cell_type": "code",
   "execution_count": 10,
   "metadata": {},
   "outputs": [
    {
     "name": "stdout",
     "output_type": "stream",
     "text": [
      "CPU times: user 1.04 s, sys: 7.22 ms, total: 1.05 s\n",
      "Wall time: 1.05 s\n",
      "L1 norm of difference to true coefficient: 1.092881\n",
      "CPU times: user 997 µs, sys: 250 µs, total: 1.25 ms\n",
      "Wall time: 1.08 ms\n",
      "L1 norm of difference to true coefficient: 0.985951\n"
     ]
    }
   ],
   "source": [
    "# our ridge CV\n",
    "est = RidgeCV(pen_min_mult=1e-5, cv_scorer=LinRegScorer())\n",
    "%time est.fit(X, y) \n",
    "print_error(est.best_estimator_.coef_, coef_true, 'true coefficient')\n",
    "\n",
    "\n",
    "# Sklearn's ridge CV\n",
    "%time est_sk = RidgeCVSklearn().fit(X, y)\n",
    "print_error(est_sk.coef_, coef_true, 'true coefficient')"
   ]
  },
  {
   "cell_type": "markdown",
   "metadata": {},
   "source": [
    "### Ridge CV visualization\n",
    "\n",
    "By plotting the L2 norm of the estimated coefficient we can indeed verify that we have tuning over a reasonable range of tuning parameters."
   ]
  },
  {
   "cell_type": "code",
   "execution_count": 11,
   "metadata": {},
   "outputs": [
    {
     "data": {
      "text/plain": [
       "Text(0.5, 1.0, 'Length of coefficient CV-path')"
      ]
     },
     "execution_count": 11,
     "metadata": {},
     "output_type": "execute_result"
    },
    {
     "data": {
      "image/png": "[encoded data removed]",
      "text/plain": [
       "<Figure size 432x288 with 1 Axes>"
      ]
     },
     "metadata": {
      "needs_background": "light"
     },
     "output_type": "display_data"
    },
    {
     "data": {
      "image/png": "[encoded data removed]",
      "text/plain": [
       "<Figure size 432x288 with 1 Axes>"
      ]
     },
     "metadata": {
      "needs_background": "light"
     },
     "output_type": "display_data"
    }
   ],
   "source": [
    "plt.figure()\n",
    "plot_cv_path(cv_results=est.cv_results_,\n",
    "             param='pen_val', metric='r2',\n",
    "             log_param=True,\n",
    "             selected_idx=est.best_tune_idx_)\n",
    "plt.title(\"Cross-validation score path\")\n",
    "\n",
    "plt.figure()\n",
    "plot_cv_path(cv_results=est.cv_results_,\n",
    "             param='pen_val', metric='l2_norm',\n",
    "             show_train=False,\n",
    "             log_param=True)\n",
    "\n",
    "plt.title(\"Length of coefficient CV-path\")"
   ]
  },
  {
   "cell_type": "markdown",
   "metadata": {},
   "source": [
    "# Tikhonov"
   ]
  },
  {
   "cell_type": "code",
   "execution_count": 12,
   "metadata": {},
   "outputs": [
    {
     "data": {
      "text/plain": [
       "Ridge(tikhonov=array([[ 5.40616942e-01,  1.60691400e+00,  2.33113390e-01,\n",
       "        -9.69675457e-01,  6.09562828e-01, -1.28583205e+00,\n",
       "         1.11535577e+00,  6.73311194e-01, -4.60047291e-01,\n",
       "         2.91872501e-01],\n",
       "       [ 2.65903623e-01, -7.29546978e-01, -5.42320966e-01,\n",
       "         1.03347415e+00, -2.05321104e-01, -8.74465092e-01,\n",
       "        -1.01986567e+00,  1.48215426e+00,  2.28757657e-01,\n",
       "        -4.34182503e-01],\n",
       "       [-2.47988344e-0...\n",
       "        -3.49747352e-01, -8.12059500e-01, -9.49111772e-01,\n",
       "        -6.75381804e-01],\n",
       "       [ 5.82257871e-04,  9.92724727e-02, -1.27127995e-01,\n",
       "        -6.87393928e-01,  6.08660002e-01,  5.30247775e-02,\n",
       "         4.90476239e-01,  2.08403198e+00,  5.22401761e-01,\n",
       "         8.92149613e-01],\n",
       "       [ 1.14854562e-01, -1.45859318e+00, -9.89519987e-01,\n",
       "         5.79960885e-01,  1.02197965e+00, -7.31811878e-01,\n",
       "         1.04239947e+00,  1.20777774e+00, -8.36700146e-01,\n",
       "        -7.83794374e-01]]))"
      ]
     },
     "execution_count": 12,
     "metadata": {},
     "output_type": "execute_result"
    }
   ],
   "source": [
    "mat = np.random.normal(size=(X.shape[1], X.shape[1]))\n",
    "est = Ridge(tikhonov=mat)\n",
    "est.fit(X, y)"
   ]
  },
  {
   "cell_type": "code",
   "execution_count": 13,
   "metadata": {},
   "outputs": [],
   "source": [
    "# TODO: tik with CV"
   ]
  },
  {
   "cell_type": "markdown",
   "metadata": {},
   "source": [
    "# ElasticNet\n",
    "\n",
    "You probably get the idea by this point, but here is ElasticNet. Our ElasticNetCV tunes over l1_ratio by default. Not very useful here since the desing matrix is fully independent."
   ]
  },
  {
   "cell_type": "code",
   "execution_count": 14,
   "metadata": {},
   "outputs": [
    {
     "name": "stdout",
     "output_type": "stream",
     "text": [
      "CPU times: user 13.5 ms, sys: 3.56 ms, total: 17.1 ms\n",
      "Wall time: 14.3 ms\n",
      "CPU times: user 948 µs, sys: 183 µs, total: 1.13 ms\n",
      "Wall time: 1.04 ms\n",
      "L1 norm of difference: 0.000003\n"
     ]
    }
   ],
   "source": [
    "pen_val = 2\n",
    "l1_ratio = 0.5\n",
    "\n",
    "%time est = ENet(pen_val=pen_val, l1_ratio=l1_ratio).fit(X, y)\n",
    "\n",
    "%time est_sk = ENetSklearn(alpha=pen_val, l1_ratio=l1_ratio).fit(X, y)\n",
    "\n",
    "# let's check we get the same answer\n",
    "print_error(est.coef_, est_sk.coef_)"
   ]
  },
  {
   "cell_type": "code",
   "execution_count": 15,
   "metadata": {
    "scrolled": false
   },
   "outputs": [
    {
     "name": "stdout",
     "output_type": "stream",
     "text": [
      "CPU times: user 809 ms, sys: 9.82 ms, total: 819 ms\n",
      "Wall time: 819 ms\n",
      "CPU times: user 51.1 ms, sys: 906 µs, total: 52 ms\n",
      "Wall time: 52 ms\n"
     ]
    }
   ],
   "source": [
    "# tunes over a few l1_ratio valeues by default\n",
    "%time est = ENetCV().fit(X, y) \n",
    "\n",
    "# l1 ratio sequence\n",
    "%time est_sk = ElasticNetCVSklearn().fit(X, y) "
   ]
  },
  {
   "cell_type": "code",
   "execution_count": 16,
   "metadata": {},
   "outputs": [
    {
     "name": "stdout",
     "output_type": "stream",
     "text": [
      "L1 norm of difference to true coefficient: 1.019980\n",
      "L1 norm of difference to true coefficient: 0.973687\n"
     ]
    }
   ],
   "source": [
    "# let's see how far from the truth we are\n",
    "print_error(est.best_estimator_.coef_, coef_true, 'true coefficient')\n",
    "print_error(est_sk.coef_, coef_true, 'true coefficient')"
   ]
  },
  {
   "cell_type": "markdown",
   "metadata": {},
   "source": [
    "# ElasticNet with Tikhonov"
   ]
  },
  {
   "cell_type": "code",
   "execution_count": 17,
   "metadata": {},
   "outputs": [],
   "source": [
    "# single fit\n",
    "est = ENet(pen_val=pen_val, l1_ratio=l1_ratio, tikhonov=mat).fit(X, y)\n",
    "\n",
    "# cross-validation\n",
    "# notice the penalty arguments are controlled through the estimator\n",
    "est = ENetCV(estimator=ENet(tikhonov=mat)).fit(X, y) "
   ]
  },
  {
   "cell_type": "markdown",
   "metadata": {},
   "source": [
    "# Group Lasso with user specified groups"
   ]
  },
  {
   "cell_type": "code",
   "execution_count": 18,
   "metadata": {},
   "outputs": [
    {
     "name": "stdout",
     "output_type": "stream",
     "text": [
      "CPU times: user 15.5 ms, sys: 2.38 ms, total: 17.9 ms\n",
      "Wall time: 16.3 ms\n"
     ]
    },
    {
     "data": {
      "text/plain": [
       "Lasso(groups=[array([0, 1, 2, 3, 4]), array([5, 6, 7, 8, 9])], standardize=True)"
      ]
     },
     "execution_count": 18,
     "metadata": {},
     "output_type": "execute_result"
    }
   ],
   "source": [
    "groups = [np.arange(5), np.arange(5, 10)]\n",
    "\n",
    "est = Lasso(groups=groups, # specify indices of groups \n",
    "            \n",
    "            # for group lasso this ensures gorups are weighted by 1/sqrt(group_size)\n",
    "            standardize=True)\n",
    "%time est.fit(X, y)"
   ]
  },
  {
   "cell_type": "code",
   "execution_count": 19,
   "metadata": {},
   "outputs": [
    {
     "name": "stdout",
     "output_type": "stream",
     "text": [
      "CPU times: user 727 ms, sys: 10.8 ms, total: 737 ms\n",
      "Wall time: 737 ms\n"
     ]
    }
   ],
   "source": [
    "# note we set the groups using the estimator argument\n",
    "%time est = LassoCV(estimator=Lasso(groups=groups, standardize=True)).fit(X, y)"
   ]
  },
  {
   "cell_type": "markdown",
   "metadata": {},
   "source": [
    "# Adaptive Lasso\n",
    "\n",
    "The Adaptive Lasso takes an initial estimate and makes it better."
   ]
  },
  {
   "cell_type": "code",
   "execution_count": 20,
   "metadata": {},
   "outputs": [
    {
     "data": {
      "text/plain": [
       "AdaptiveLasso(init=LassoCV())"
      ]
     },
     "execution_count": 20,
     "metadata": {},
     "output_type": "execute_result"
    }
   ],
   "source": [
    "init = LassoCV().fit(X, y) # initialize with a Lasso \n",
    "\n",
    "est = AdaptiveLasso(init=init)\n",
    "# est = AdaptiveLasso(init='default') # we provide a LassoCV default initializer\n",
    "# est = AdaptiveENet()# or elastic net version\n",
    "# est = Adaptive(groups=groups) # or group version\n",
    "# est = AdaptiveENet(groups=groups) # or gruop elastic net version\n",
    "est.fit(X, y)"
   ]
  },
  {
   "cell_type": "code",
   "execution_count": 21,
   "metadata": {},
   "outputs": [
    {
     "name": "stdout",
     "output_type": "stream",
     "text": [
      "CPU times: user 1.5 s, sys: 12 ms, total: 1.51 s\n",
      "Wall time: 1.52 s\n",
      "L1 norm of difference to true coefficient: 0.707019\n"
     ]
    }
   ],
   "source": [
    "# the adaptive lasso comes with a path algorithm to make cross-validation faster\n",
    "%time est_cv = AdaptiveLassoCV().fit(X, y)\n",
    "\n",
    "# the above is equivalent to the following call\n",
    "# since we use LassoCV() as the default initializer\n",
    "# est = AdaptiveLassoCV(estimator=AdaptiveLasso(init=LassoCV())).fit(X, y)\n",
    "\n",
    "\n",
    "print_error(est_cv.best_estimator_.coef_, coef_true, 'true coefficient')"
   ]
  },
  {
   "cell_type": "markdown",
   "metadata": {},
   "source": [
    "# Folded concave penalty (FCP)\n",
    "\n",
    "Now let's use a concave penalty instead of a Lasso. We use SCAD by default. This is a two step estimator where we initializer from somewhere (e.g. a vanilla Lasso) then improve our estimate using a concave penalty."
   ]
  },
  {
   "cell_type": "code",
   "execution_count": 22,
   "metadata": {},
   "outputs": [
    {
     "name": "stdout",
     "output_type": "stream",
     "text": [
      "CPU times: user 10.7 ms, sys: 28 µs, total: 10.7 ms\n",
      "Wall time: 10.7 ms\n"
     ]
    },
    {
     "data": {
      "text/plain": [
       "FcpLLA(init=LassoCV())"
      ]
     },
     "execution_count": 22,
     "metadata": {},
     "output_type": "execute_result"
    }
   ],
   "source": [
    "init = LassoCV().fit(X, y) # initialize with a Lasso \n",
    "est = FcpLLA(init=init)\n",
    "# est = FcpLLA(init='default') # we could have just stuck with the default\n",
    "\n",
    "%time est.fit(X, y)"
   ]
  },
  {
   "cell_type": "markdown",
   "metadata": {},
   "source": [
    "### Cross-validation"
   ]
  },
  {
   "cell_type": "code",
   "execution_count": 23,
   "metadata": {},
   "outputs": [
    {
     "name": "stdout",
     "output_type": "stream",
     "text": [
      "CPU times: user 7.02 s, sys: 55.6 ms, total: 7.08 s\n",
      "Wall time: 7.13 s\n",
      "L1 norm of difference to true coefficient: 0.555128\n"
     ]
    }
   ],
   "source": [
    "# tune with cross-validation\n",
    "%time est_cv = FcpLLACV().fit(X, y)\n",
    "print_error(est_cv.best_estimator_.coef_, coef_true, 'true coefficient')"
   ]
  },
  {
   "cell_type": "markdown",
   "metadata": {},
   "source": [
    "#### Group Lasso with concave penalty"
   ]
  },
  {
   "cell_type": "code",
   "execution_count": 24,
   "metadata": {},
   "outputs": [],
   "source": [
    "est = FcpLLA(groups=groups)\n",
    "est_cv = FcpLLACV(estimator=est).fit(X, y)"
   ]
  },
  {
   "cell_type": "markdown",
   "metadata": {},
   "source": [
    "### FCP with CV\n",
    "\n",
    "And we can tune the folded concave penalty using cross-validation. Note behind the scences we fit an initializer once, then pass this initializer to each cross-validation fold."
   ]
  },
  {
   "cell_type": "code",
   "execution_count": 25,
   "metadata": {},
   "outputs": [
    {
     "name": "stdout",
     "output_type": "stream",
     "text": [
      "CPU times: user 6.98 s, sys: 29.7 ms, total: 7.01 s\n",
      "Wall time: 7.04 s\n"
     ]
    },
    {
     "data": {
      "text/plain": [
       "FcpLLACV(cv_scorer=<ya_glm.glm_loss.linear_regression.LinRegScorer object at 0x7fc2256c9ad0>)"
      ]
     },
     "execution_count": 25,
     "metadata": {},
     "output_type": "execute_result"
    }
   ],
   "source": [
    "# we have a default tuning parameter range which similarly to how LassoCV picks\n",
    "# its default tuning parameter sequence\n",
    "est = FcpLLACV(cv_scorer=LinRegScorer())\n",
    "%time est.fit(X, y)"
   ]
  },
  {
   "cell_type": "code",
   "execution_count": 26,
   "metadata": {},
   "outputs": [
    {
     "name": "stdout",
     "output_type": "stream",
     "text": [
      "Lasso initilizer\n",
      "L1 norm of difference to true coefficient: 0.958729\n",
      "FCP estimate\n",
      "L1 norm of difference to true coefficient: 0.555128\n"
     ]
    }
   ],
   "source": [
    "# now let see how we did compare to our initial estimate\n",
    "print(\"Lasso initilizer\")\n",
    "print_error(est.init_est_.best_estimator_.coef_, coef_true, 'true coefficient')\n",
    "\n",
    "print(\"FCP estimate\")\n",
    "print_error(est.best_estimator_.coef_, coef_true, 'true coefficient')"
   ]
  },
  {
   "cell_type": "code",
   "execution_count": 27,
   "metadata": {},
   "outputs": [
    {
     "data": {
      "image/png": "[encoded data removed]",
      "text/plain": [
       "<Figure size 432x288 with 1 Axes>"
      ]
     },
     "metadata": {
      "needs_background": "light"
     },
     "output_type": "display_data"
    },
    {
     "data": {
      "image/png": "[encoded data removed]",
      "text/plain": [
       "<Figure size 432x288 with 1 Axes>"
      ]
     },
     "metadata": {
      "needs_background": "light"
     },
     "output_type": "display_data"
    }
   ],
   "source": [
    "# plotting the tuning path\n",
    "plt.figure()\n",
    "plot_cv_path(cv_results=est.cv_results_,\n",
    "             param='pen_val', metric='r2',\n",
    "             log_param=True,\n",
    "             selected_idx=est.best_tune_idx_)\n",
    "\n",
    "\n",
    "plt.figure()\n",
    "plot_cv_path(cv_results=est.cv_results_,\n",
    "             param='pen_val', metric='n_nonzero',\n",
    "             log_param=True,\n",
    "             show_train=False,\n",
    "             selected_idx=est.best_tune_idx_)"
   ]
  },
  {
   "cell_type": "code",
   "execution_count": null,
   "metadata": {},
   "outputs": [],
   "source": []
  }
 ],
 "metadata": {
  "kernelspec": {
   "display_name": "Python [conda env:root] *",
   "language": "python",
   "name": "conda-root-py"
  },
  "language_info": {
   "codemirror_mode": {
    "name": "ipython",
    "version": 3
   },
   "file_extension": ".py",
   "mimetype": "text/x-python",
   "name": "python",
   "nbconvert_exporter": "python",
   "pygments_lexer": "ipython3",
   "version": "3.7.4"
  }
 },
 "nbformat": 4,
 "nbformat_minor": 4
}
