{
 "cells": [
  {
   "cell_type": "markdown",
   "metadata": {},
   "source": [
    "The `ya_glm` package is written to facilitate adding new optimization solvers. To add your favorite solver you have to first wrap your function so it is compatible with the `ya_glm` code. In particular, you have to provide a `solve_glm` function and a `solve_glm_path` function e.g. see `ya_glm.backends.fista.glm_solver`.\n",
    "\n",
    "To see how `solve_glm` is called take a look at the `_compute_fit` function in `ya_glm.Glm.GlmENet`.\n",
    "\n",
    "Once you have implemented `solve_glm` and `solve_glm_path` take a look at `ya_glm.backends.fista.LinearRegression` to see how to put all the pieces together."
   ]
  },
  {
   "cell_type": "markdown",
   "metadata": {},
   "source": [
    "# solve_glm"
   ]
  },
  {
   "cell_type": "code",
   "execution_count": 3,
   "metadata": {},
   "outputs": [],
   "source": [
    "def solve_glm(X, y,\n",
    "              loss_func='linear_regression',\n",
    "              fit_intercept=True,\n",
    "              lasso_pen=None,\n",
    "              lasso_weights=None,\n",
    "              L2_pen=None,\n",
    "              L2_weights=None,\n",
    "              **kws):\n",
    "    \"\"\"\n",
    "    Fits a L1 and/or L2 penalized GLM problem\n",
    "    \n",
    "    min_{coef, intercept} 1/n sum_{i=1}^n L(y_i, x_i^T coef + intercept) \n",
    "    + L1_pen * sum_{j=1}^d L1_weights_j |coef_j|\n",
    "    + 0.5 * L2_pen * sum_{j=1}^d L2_weights_j |coef_j|^2\n",
    "    \n",
    "    Parameters\n",
    "    -----------\n",
    "    X: array-like, shape (n_samples, n_features)\n",
    "        The training covariate data.\n",
    "\n",
    "    y: array-like, shape (n_samples, )\n",
    "        The training response data.\n",
    "\n",
    "    loss_func: str\n",
    "        Which GLM loss function to use.\n",
    "\n",
    "    fit_intercept: bool\n",
    "        Whether or not to fit an intercept.\n",
    "\n",
    "    lasso_pen: None, float\n",
    "        (Optional) The L1 penalty parameter value.\n",
    "\n",
    "    lasso_weights: None, array-like, shape (n_features, )\n",
    "        (Optional) The L1 penalty feature weights.\n",
    "\n",
    "    L2_pen: None, float\n",
    "        (Optional) The L2 penalty parameter value.\n",
    "\n",
    "    L2_weights: None, array-like, shape (n_features, )\n",
    "        (Optional) The L2 penalty feature weights.\n",
    "        \n",
    "    **kws: \n",
    "        Additional keyword arguments for optimization algorithm e.g. number of steps.\n",
    "\n",
    "    Output\n",
    "    ------\n",
    "    coef, intercept, opt_data\n",
    "\n",
    "    coef: array-like, shape (n_features, )\n",
    "        The estimated coefficient.\n",
    "\n",
    "    intercept: None or float\n",
    "        The estimated intercept -- if one was requested.\n",
    "\n",
    "    opt_data: dict\n",
    "        The optmization history output.\n",
    "    \"\"\"\n",
    "\n",
    "    # YOUR ALGORITHM GOES HERE\n",
    "    coef = None\n",
    "    intercept = None\n",
    "    opt_data = {}\n",
    "    \n",
    "    return coef, intercept, opt_data\n",
    "\n"
   ]
  },
  {
   "cell_type": "markdown",
   "metadata": {},
   "source": [
    "# solve_glm_path"
   ]
  },
  {
   "cell_type": "code",
   "execution_count": 1,
   "metadata": {},
   "outputs": [],
   "source": [
    "def solve_glm_path(lasso_pen_seq=None, L2_pen_seq=None, **kws):\n",
    "    \"\"\"\n",
    "    Fits a GLM along a tuning parameter path.\n",
    "    \n",
    "    Parameters\n",
    "    ----------\n",
    "    lasso_pen_seq: None, list\n",
    "        The (optional) L1 penalty parameter sequence.\n",
    "  \n",
    "    L2_pen_seq: None, list\n",
    "        The (optional) L2 penalty parameter sequence.\n",
    "        \n",
    "    **kws:\n",
    "        Any keyword argument to solve_glm\n",
    "        \n",
    "    Output\n",
    "    ------\n",
    "    TODO: decide on this!\n",
    "    \"\"\"\n",
    "    pass"
   ]
  },
  {
   "cell_type": "code",
   "execution_count": null,
   "metadata": {},
   "outputs": [],
   "source": []
  }
 ],
 "metadata": {
  "kernelspec": {
   "display_name": "Python [conda env:repro_lap_reg] *",
   "language": "python",
   "name": "conda-env-repro_lap_reg-py"
  },
  "language_info": {
   "codemirror_mode": {
    "name": "ipython",
    "version": 3
   },
   "file_extension": ".py",
   "mimetype": "text/x-python",
   "name": "python",
   "nbconvert_exporter": "python",
   "pygments_lexer": "ipython3",
   "version": "3.6.12"
  }
 },
 "nbformat": 4,
 "nbformat_minor": 4
}
