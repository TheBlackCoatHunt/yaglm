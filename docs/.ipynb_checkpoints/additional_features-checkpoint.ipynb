{
 "cells": [
  {
   "cell_type": "markdown",
   "metadata": {},
   "source": [
    "`ya_glm` lets you combine a wide array of GLMs (e.g. linear regression, logistic regression, multiple response linear regression, etc) with a wide array of penalties (e.g. Lasso, ElasticNet, Group Lasso, L1 to L2 norm, nuclear norm, etc). We can programaticlaly generate estimators with any combination of GLM loss and penalty.\n",
    "\n",
    "`ya_glm` also lets you swap in your favorite GLM solver. Here we use celer for linear regression."
   ]
  },
  {
   "cell_type": "code",
   "execution_count": 1,
   "metadata": {},
   "outputs": [],
   "source": [
    "import numpy as np\n",
    "import seaborn as sns\n",
    "import matplotlib.pyplot as plt\n",
    "\n",
    "from ya_glm.toy_data import sample_sparse_lin_reg, sample_sparse_log_reg\n",
    "from ya_glm.estimator_getter import get_pen_glm, get_fcp_model"
   ]
  },
  {
   "cell_type": "code",
   "execution_count": 2,
   "metadata": {},
   "outputs": [
    {
     "data": {
      "text/plain": [
       "Text(0.5, 1.0, 'True coefficient')"
      ]
     },
     "execution_count": 2,
     "metadata": {},
     "output_type": "execute_result"
    },
    {
     "data": {
      "image/png": "[encoded data removed]",
      "text/plain": [
       "<Figure size 432x288 with 1 Axes>"
      ]
     },
     "metadata": {
      "needs_background": "light"
     },
     "output_type": "display_data"
    }
   ],
   "source": [
    "# sample some linear regression data\n",
    "X, y, coef, intercept = sample_sparse_lin_reg(n_samples=100, n_features=10, n_nonzero=5,\n",
    "                                              random_state=1)\n",
    "\n",
    "plt.scatter(np.arange(len(coef)), coef)\n",
    "plt.title(\"True coefficient\")"
   ]
  },
  {
   "cell_type": "markdown",
   "metadata": {},
   "source": [
    "# Programatically generating estimators\n",
    "\n",
    "You can programatically create GLM loss + peanlty estimators"
   ]
  },
  {
   "cell_type": "code",
   "execution_count": 3,
   "metadata": {},
   "outputs": [
    {
     "name": "stdout",
     "output_type": "stream",
     "text": [
      "CPU times: user 687 ms, sys: 8.2 ms, total: 695 ms\n",
      "Wall time: 697 ms\n"
     ]
    }
   ],
   "source": [
    "# construct an Estimator with a corresponding\n",
    "# cross-validation estimator\n",
    "Est, EstCV = get_pen_glm(loss_func='lin_reg',\n",
    "                         penalty='lasso',\n",
    "                         backend='fista')\n",
    "\n",
    "est = Est(pen_val=1).fit(X, y) # single fit\n",
    "%time est_cv = EstCV().fit(X, y) # cross validation\n",
    "\n",
    "# folded concave \n",
    "# Est, EstCV = get_fcp_model(loss_func='linear_regression', backend='fista')"
   ]
  },
  {
   "cell_type": "markdown",
   "metadata": {},
   "source": [
    "# Celer backend for linear regression"
   ]
  },
  {
   "cell_type": "code",
   "execution_count": 4,
   "metadata": {},
   "outputs": [
    {
     "name": "stdout",
     "output_type": "stream",
     "text": [
      "CPU times: user 1.33 s, sys: 35.3 ms, total: 1.36 s\n",
      "Wall time: 1.38 s\n"
     ]
    }
   ],
   "source": [
    "Est, EstCV = get_pen_glm(loss_func='lin_reg', penalty='lasso',\n",
    "                         backend='celer')\n",
    "\n",
    "%time est_cv = EstCV().fit(X, y) # celer is faster than FISTA in higher dimensions!"
   ]
  },
  {
   "cell_type": "markdown",
   "metadata": {},
   "source": [
    "# Logistic Regression\n",
    "\n",
    "We can apply all our favorite penalties to logistic regression!"
   ]
  },
  {
   "cell_type": "code",
   "execution_count": 5,
   "metadata": {},
   "outputs": [],
   "source": [
    "# sample some logistic regression data\n",
    "# same coefficient as above\n",
    "X, y, probs, coef, intercept = sample_sparse_log_reg(n_samples=100, n_features=10, n_nonzero=5,\n",
    "                                                     random_state=1)"
   ]
  },
  {
   "cell_type": "code",
   "execution_count": 6,
   "metadata": {},
   "outputs": [
    {
     "name": "stdout",
     "output_type": "stream",
     "text": [
      "Lasso L2 to truth 1.1222397223387948\n",
      "ENet L2 to truth 0.9661888417457567\n",
      "Group Lasso L2 to truth 1.0554558614871843\n",
      "SCAD L2 to truth 0.8400704078733395\n"
     ]
    }
   ],
   "source": [
    "# Lasso penalty\n",
    "Est, EstCV = get_pen_glm(loss_func='log_reg', penalty='lasso')\n",
    "est = EstCV().fit(X, y)\n",
    "print('Lasso L2 to truth', np.linalg.norm(est.best_estimator_.coef_ - coef))\n",
    "\n",
    "\n",
    "# ElasticNet\n",
    "Est, EstCV = get_pen_glm(loss_func='log_reg', penalty='lasso_enet')\n",
    "est = EstCV().fit(X, y)\n",
    "print('ENet L2 to truth', np.linalg.norm(est.best_estimator_.coef_ - coef))\n",
    "\n",
    "\n",
    "# User specified groups lasso\n",
    "groups = [range(5), range(5, 10)]\n",
    "Est, EstCV = get_pen_glm(loss_func='log_reg', penalty='group_lasso')\n",
    "est = EstCV(groups=groups).fit(X, y)\n",
    "print('Group Lasso L2 to truth', np.linalg.norm(est.best_estimator_.coef_ - coef))\n",
    "\n",
    "\n",
    "# concave penalty\n",
    "Est, EstCV = get_fcp_model(loss_func='log_reg')\n",
    "est = EstCV().fit(X, y)\n",
    "print('SCAD L2 to truth', np.linalg.norm(est.best_estimator_.coef_ - coef))"
   ]
  },
  {
   "cell_type": "markdown",
   "metadata": {},
   "source": [
    "# Multiple response linear regression\n",
    "\n",
    "For multiple response linear regression we get a few additional penalties such as nuclear norm and the Row Lasso (L1 to L2 norm)."
   ]
  },
  {
   "cell_type": "code",
   "execution_count": 7,
   "metadata": {},
   "outputs": [
    {
     "data": {
      "text/plain": [
       "<AxesSubplot:>"
      ]
     },
     "execution_count": 7,
     "metadata": {},
     "output_type": "execute_result"
    },
    {
     "data": {
      "image/png": "[encoded data removed]",
      "text/plain": [
       "<Figure size 432x288 with 2 Axes>"
      ]
     },
     "metadata": {
      "needs_background": "light"
     },
     "output_type": "display_data"
    }
   ],
   "source": [
    "# multiple response linear regression with row sparsity\n",
    "# not this coefficent matrix is also low rank\n",
    "X, y, coef, intercept = sample_sparse_lin_reg(n_samples=100, n_features=10, n_nonzero=5,\n",
    "                                              n_responses=7, random_state=1)\n",
    "\n",
    "sns.heatmap(coef, center=0)"
   ]
  },
  {
   "cell_type": "code",
   "execution_count": 8,
   "metadata": {
    "scrolled": false
   },
   "outputs": [
    {
     "name": "stdout",
     "output_type": "stream",
     "text": [
      "Entrywise Lasso L2 to truth 0.9119182250946589\n",
      "Row lasso L2 to truth 0.8684962588854993\n",
      "Nuclear norm L2 to truth 0.709980584679661\n"
     ]
    }
   ],
   "source": [
    "# Lasso penalty\n",
    "Est, EstCV = get_pen_glm(loss_func='lin_reg_mr', penalty='lasso')\n",
    "est = EstCV().fit(X, y)\n",
    "print('Entrywise Lasso L2 to truth', np.linalg.norm(est.best_estimator_.coef_ - coef))\n",
    "\n",
    "\n",
    "Est, EstCV = get_pen_glm(loss_func='lin_reg_mr', penalty='row_lasso')\n",
    "est = EstCV().fit(X, y)\n",
    "print('Row lasso L2 to truth', np.linalg.norm(est.best_estimator_.coef_ - coef))\n",
    "\n",
    "\n",
    "Est, EstCV = get_pen_glm(loss_func='lin_reg_mr', penalty='nuclear_norm')\n",
    "est = EstCV().fit(X, y)\n",
    "print('Nuclear norm L2 to truth', np.linalg.norm(est.best_estimator_.coef_ - coef))"
   ]
  }
 ],
 "metadata": {
  "kernelspec": {
   "display_name": "Python [conda env:repro_lap_reg] *",
   "language": "python",
   "name": "conda-env-repro_lap_reg-py"
  },
  "language_info": {
   "codemirror_mode": {
    "name": "ipython",
    "version": 3
   },
   "file_extension": ".py",
   "mimetype": "text/x-python",
   "name": "python",
   "nbconvert_exporter": "python",
   "pygments_lexer": "ipython3",
   "version": "3.6.12"
  }
 },
 "nbformat": 4,
 "nbformat_minor": 4
}
