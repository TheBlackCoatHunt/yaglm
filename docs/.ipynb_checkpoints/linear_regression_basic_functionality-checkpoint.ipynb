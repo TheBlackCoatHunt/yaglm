{
 "cells": [
  {
   "cell_type": "markdown",
   "metadata": {},
   "source": [
    "This notebook walks through the basic functionality of the `ya_glm` package for linear regression. Some of this overlaps with existing sklearn functionality in which case we get the same answer. Some of this is not in sklearn e.g. Tikhonov, concave penalties, user specified group Lasso."
   ]
  },
  {
   "cell_type": "code",
   "execution_count": 1,
   "metadata": {},
   "outputs": [],
   "source": [
    "import matplotlib.pyplot as plt\n",
    "import numpy as np\n",
    "\n",
    "from ya_glm.backends.fista.LinearRegression import Vanilla, Lasso, Ridge, LassoENet, GroupLasso\n",
    "from ya_glm.backends.fista.LinearRegression import LassoCV, RidgeCV, LassoENetCV, GroupLassoCV\n",
    "from ya_glm.backends.fista.LinearRegression import FcpLLA, FcpLLACV\n",
    "\n",
    "# useful functionality for cross-validations\n",
    "from ya_glm.models.linear_regression import LinRegScorer\n",
    "from ya_glm.cv.cv_viz import plot_cv_path\n",
    "\n",
    "from ya_glm.toy_data import sample_sparse_lin_reg\n",
    "\n",
    "# Let's make sure our algorithms give the same answer as sklearn\n",
    "from sklearn.linear_model import LinearRegression as LinRegSklearn\n",
    "from sklearn.linear_model import Lasso as LassoSklearn\n",
    "from sklearn.linear_model import Ridge as RidgeSklearn\n",
    "from sklearn.linear_model import ElasticNet as ENetSklearn\n",
    "\n",
    "from sklearn.linear_model import LassoCV as LassoCVSklearn\n",
    "from sklearn.linear_model import RidgeCV as RidgeCVSklearn\n",
    "from sklearn.linear_model import ElasticNetCV as ElasticNetCVSklearn"
   ]
  },
  {
   "cell_type": "code",
   "execution_count": 2,
   "metadata": {},
   "outputs": [
    {
     "data": {
      "text/plain": [
       "Text(0.5, 1.0, 'True coefficient')"
      ]
     },
     "execution_count": 2,
     "metadata": {},
     "output_type": "execute_result"
    },
    {
     "data": {
      "image/png": "[encoded data removed]",
      "text/plain": [
       "<Figure size 432x288 with 1 Axes>"
      ]
     },
     "metadata": {
      "needs_background": "light"
     },
     "output_type": "display_data"
    }
   ],
   "source": [
    "# sample some linear regression data with a sparse coefficient\n",
    "X, y, coef_true, intercept_true = \\\n",
    "    sample_sparse_lin_reg(n_samples=100, n_features=10, n_nonzero=5,\n",
    "                          noise_std=1,\n",
    "                          random_state=234)\n",
    "\n",
    "plt.scatter(np.arange(len(coef_true)), coef_true)\n",
    "plt.title(\"True coefficient\")"
   ]
  },
  {
   "cell_type": "code",
   "execution_count": 3,
   "metadata": {},
   "outputs": [],
   "source": [
    "def print_error(a, b, to=None):\n",
    "    err = abs(a - b).sum()\n",
    "    if to is not None:\n",
    "        print('L1 norm of difference to {}: {:1.6f}'.format(to, err))\n",
    "    else:\n",
    "        print('L1 norm of difference: {:1.6f}'.format(err))"
   ]
  },
  {
   "cell_type": "markdown",
   "metadata": {},
   "source": [
    "# Vanilla linear regression\n",
    "\n",
    "Let's check we get the same answer as sklearn for basic linear regression"
   ]
  },
  {
   "cell_type": "code",
   "execution_count": 4,
   "metadata": {},
   "outputs": [
    {
     "name": "stdout",
     "output_type": "stream",
     "text": [
      "CPU times: user 3.49 ms, sys: 1.27 ms, total: 4.75 ms\n",
      "Wall time: 3.66 ms\n",
      "CPU times: user 834 µs, sys: 326 µs, total: 1.16 ms\n",
      "Wall time: 1.06 ms\n",
      "L1 norm of difference to sklearn: 0.000124\n"
     ]
    }
   ],
   "source": [
    "%time est = Vanilla().fit(X, y)\n",
    "\n",
    "%time est_sk = LinRegSklearn().fit(X, y)\n",
    "\n",
    "# double check we get the same answer as sklearn!\n",
    "print_error(est.coef_, est_sk.coef_, to='sklearn')"
   ]
  },
  {
   "cell_type": "markdown",
   "metadata": {},
   "source": [
    "# Lasso\n",
    "\n",
    "Similarly let's check we match sklearn for Lasso"
   ]
  },
  {
   "cell_type": "code",
   "execution_count": 5,
   "metadata": {},
   "outputs": [
    {
     "name": "stdout",
     "output_type": "stream",
     "text": [
      "CPU times: user 1.03 ms, sys: 372 µs, total: 1.4 ms\n",
      "Wall time: 1.06 ms\n",
      "CPU times: user 822 µs, sys: 221 µs, total: 1.04 ms\n",
      "Wall time: 955 µs\n",
      "L1 norm of difference to sklearn: 0.000000\n"
     ]
    }
   ],
   "source": [
    "pen_val = 2\n",
    "\n",
    "%time est = Lasso(pen_val=pen_val).fit(X, y)\n",
    "\n",
    "%time est_sk = LassoSklearn(alpha=pen_val).fit(X, y)\n",
    "\n",
    "# double check we get the same answer as sklearn!\n",
    "print_error(est.coef_, est_sk.coef_, 'sklearn')"
   ]
  },
  {
   "cell_type": "markdown",
   "metadata": {},
   "source": [
    "### Lasso with Cross-Validation\n",
    "\n",
    "Just like in LassoCV we can run cross-validation using a path/homomtopy algorithm to make computing the whole training path very fast!"
   ]
  },
  {
   "cell_type": "code",
   "execution_count": 6,
   "metadata": {
    "scrolled": false
   },
   "outputs": [
    {
     "name": "stdout",
     "output_type": "stream",
     "text": [
      "CPU times: user 50.6 ms, sys: 2.57 ms, total: 53.2 ms\n",
      "Wall time: 52.1 ms\n",
      "CPU times: user 1.07 s, sys: 9.16 ms, total: 1.08 s\n",
      "Wall time: 1.09 s\n"
     ]
    },
    {
     "data": {
      "text/plain": [
       "LassoCV()"
      ]
     },
     "execution_count": 6,
     "metadata": {},
     "output_type": "execute_result"
    }
   ],
   "source": [
    "%time est_sk = LassoCVSklearn().fit(X, y) \n",
    "\n",
    "# fits with Lasso homotopy path algorithm\n",
    "# notice we pass in the (optional) LinRegScorer() -- this tracks \n",
    "# additional data during cross-validation e.g. the number of non-zero coefficients\n",
    "est_path = LassoCV(cv_scorer=LinRegScorer())\n",
    "%time est_path.fit(X, y) # fits with Lasso homotopy path algorithm\n",
    "\n",
    "# naively refits each Lasso value separetly\n",
    "# %time est_grid = LinearRegressionLassoCV().fit(X, y) "
   ]
  },
  {
   "cell_type": "code",
   "execution_count": 7,
   "metadata": {},
   "outputs": [
    {
     "name": "stdout",
     "output_type": "stream",
     "text": [
      "L1 norm of difference to true coefficient: 0.958726\n",
      "L1 norm of difference to true coefficient: 0.960945\n"
     ]
    }
   ],
   "source": [
    "# Let's see how far our estimate is from the true coefficient\n",
    "print_error(est_path.best_estimator_.coef_, coef_true, 'true coefficient')\n",
    "print_error(est_sk.coef_, coef_true, 'true coefficient')"
   ]
  },
  {
   "cell_type": "markdown",
   "metadata": {},
   "source": [
    "### Lasso Path visualizations\n",
    "\n",
    "We include some very basic visualizations for the cross-validation path. For example, we can see the range of number of non-zero coefficients computed along the tuning path. This allows us to double check we fit the entire ``reasonable\" range of tuning parameters."
   ]
  },
  {
   "cell_type": "code",
   "execution_count": 8,
   "metadata": {},
   "outputs": [
    {
     "data": {
      "text/plain": [
       "Text(0.5, 1.0, 'Lasso tuning path support size of cv train coef')"
      ]
     },
     "execution_count": 8,
     "metadata": {},
     "output_type": "execute_result"
    },
    {
     "data": {
      "image/png": "[encoded data removed]",
      "text/plain": [
       "<Figure size 432x288 with 1 Axes>"
      ]
     },
     "metadata": {
      "needs_background": "light"
     },
     "output_type": "display_data"
    },
    {
     "data": {
      "image/png": "[encoded data removed]",
      "text/plain": [
       "<Figure size 432x288 with 1 Axes>"
      ]
     },
     "metadata": {
      "needs_background": "light"
     },
     "output_type": "display_data"
    }
   ],
   "source": [
    "plt.figure()\n",
    "plot_cv_path(cv_results=est_path.cv_results_,\n",
    "             param='pen_val', metric='r2',\n",
    "             log_param=True,\n",
    "             selected_idx=est_path.best_tune_idx_)\n",
    "plt.title(\"Lasso tuning path scores\")\n",
    "\n",
    "\n",
    "plt.figure()\n",
    "plot_cv_path(cv_results=est_path.cv_results_,\n",
    "             param='pen_val', metric='n_nonzero',\n",
    "             log_param=True,\n",
    "             show_train=False,\n",
    "             selected_idx=est_path.best_tune_idx_)\n",
    "plt.title(\"Lasso tuning path support size of cv train coef\")"
   ]
  },
  {
   "cell_type": "markdown",
   "metadata": {},
   "source": [
    "# Ridge\n",
    "\n",
    "Ok now let's check ridge regression"
   ]
  },
  {
   "cell_type": "code",
   "execution_count": 9,
   "metadata": {},
   "outputs": [
    {
     "name": "stdout",
     "output_type": "stream",
     "text": [
      "CPU times: user 2.71 ms, sys: 1.87 ms, total: 4.58 ms\n",
      "Wall time: 2.88 ms\n",
      "CPU times: user 952 µs, sys: 263 µs, total: 1.21 ms\n",
      "Wall time: 1.07 ms\n",
      "L1 norm of difference: 0.000200\n"
     ]
    }
   ],
   "source": [
    "pen_val = 2\n",
    "\n",
    "%time est = Ridge(pen_val=pen_val).fit(X, y)\n",
    "\n",
    "# sklearn scales the ridge regression loss differently so we need to \n",
    "# scale the tuning parameter accordingly\n",
    "%time est_sk = RidgeSklearn(alpha=X.shape[0] * pen_val).fit(X, y)\n",
    "\n",
    "# check we get the same answer\n",
    "print_error(est.coef_, est_sk.coef_)"
   ]
  },
  {
   "cell_type": "markdown",
   "metadata": {},
   "source": [
    "### Ridge with CV\n",
    "\n",
    "Our ridge CV comes with a guess at the reasonable range of tuning parameter values."
   ]
  },
  {
   "cell_type": "code",
   "execution_count": 10,
   "metadata": {},
   "outputs": [
    {
     "name": "stdout",
     "output_type": "stream",
     "text": [
      "CPU times: user 1.14 s, sys: 20.2 ms, total: 1.16 s\n",
      "Wall time: 1.19 s\n",
      "L1 norm of difference to true coefficient: 1.092904\n",
      "CPU times: user 1.31 ms, sys: 351 µs, total: 1.66 ms\n",
      "Wall time: 1.53 ms\n",
      "L1 norm of difference to true coefficient: 0.985951\n"
     ]
    }
   ],
   "source": [
    "# our ridge CV\n",
    "est = RidgeCV(pen_min_mult=1e-5, cv_scorer=LinRegScorer())\n",
    "%time est.fit(X, y) \n",
    "print_error(est.best_estimator_.coef_, coef_true, 'true coefficient')\n",
    "\n",
    "\n",
    "# Sklearn's ridge CV\n",
    "%time est_sk = RidgeCVSklearn().fit(X, y)\n",
    "print_error(est_sk.coef_, coef_true, 'true coefficient')"
   ]
  },
  {
   "cell_type": "markdown",
   "metadata": {},
   "source": [
    "### Ridge CV visualization\n",
    "\n",
    "By plotting the L2 norm of the estimated coefficient we can indeed verify that we have tuning over a reasonable range of tuning parameters."
   ]
  },
  {
   "cell_type": "code",
   "execution_count": 11,
   "metadata": {},
   "outputs": [
    {
     "data": {
      "text/plain": [
       "Text(0.5, 1.0, 'Length of coefficient CV-path')"
      ]
     },
     "execution_count": 11,
     "metadata": {},
     "output_type": "execute_result"
    },
    {
     "data": {
      "image/png": "[encoded data removed]",
      "text/plain": [
       "<Figure size 432x288 with 1 Axes>"
      ]
     },
     "metadata": {
      "needs_background": "light"
     },
     "output_type": "display_data"
    },
    {
     "data": {
      "image/png": "[encoded data removed]",
      "text/plain": [
       "<Figure size 432x288 with 1 Axes>"
      ]
     },
     "metadata": {
      "needs_background": "light"
     },
     "output_type": "display_data"
    }
   ],
   "source": [
    "plt.figure()\n",
    "plot_cv_path(cv_results=est.cv_results_,\n",
    "             param='pen_val', metric='r2',\n",
    "             log_param=True,\n",
    "             selected_idx=est.best_tune_idx_)\n",
    "plt.title(\"Cross-validation score path\")\n",
    "\n",
    "plt.figure()\n",
    "plot_cv_path(cv_results=est.cv_results_,\n",
    "             param='pen_val', metric='l2_norm',\n",
    "             show_train=False,\n",
    "             log_param=True)\n",
    "\n",
    "plt.title(\"Length of coefficient CV-path\")"
   ]
  },
  {
   "cell_type": "markdown",
   "metadata": {},
   "source": [
    "# Tikhonov"
   ]
  },
  {
   "cell_type": "code",
   "execution_count": 12,
   "metadata": {},
   "outputs": [
    {
     "data": {
      "text/plain": [
       "Ridge(tikhonov=array([[ 0.98910778, -0.64190753, -1.14720731,  1.08180844,  0.15113747,\n",
       "         0.27446624,  0.63229705, -0.16700142, -0.19674128,  0.16918952],\n",
       "       [-0.80959241,  0.11551426, -0.4855998 ,  0.6979384 , -2.0030753 ,\n",
       "         0.35662523,  0.84526624, -0.53456962, -1.0280518 ,  0.2127927 ],\n",
       "       [ 0.97431364,  2.47203404, -1.36577232,  0.16394278,  0.73572096,\n",
       "         0.1653435 ,  0.10482004,  0.06390278,  0.63940869,...\n",
       "       [-0.10283646, -1.42709684,  0.46594415, -1.71548512,  2.4486348 ,\n",
       "         0.35154674, -0.4207125 ,  0.56950311, -0.06802079, -0.38834295],\n",
       "       [ 1.58171078,  2.1605836 , -0.32682426,  2.05511083,  0.14772111,\n",
       "        -1.19636097, -0.93668801,  0.84222758,  1.75638329, -0.6958133 ],\n",
       "       [-0.60439545, -1.11624758,  0.99372165, -0.77911913, -0.92015703,\n",
       "         0.53325721, -0.11881593, -1.71148976,  0.63980193, -0.75836729]]))"
      ]
     },
     "execution_count": 12,
     "metadata": {},
     "output_type": "execute_result"
    }
   ],
   "source": [
    "mat = np.random.normal(size=(X.shape[1], X.shape[1]))\n",
    "est = Ridge(tikhonov=mat)\n",
    "est.fit(X, y)"
   ]
  },
  {
   "cell_type": "code",
   "execution_count": 13,
   "metadata": {},
   "outputs": [],
   "source": [
    "# TODO: tik with CV"
   ]
  },
  {
   "cell_type": "markdown",
   "metadata": {},
   "source": [
    "# ElasticNet\n",
    "\n",
    "You probably get the idea by this point, but here is ElasticNet. Our ElasticNetCV tunes over l1_ratio by default. Not very useful here since the desing matrix is fully independent."
   ]
  },
  {
   "cell_type": "code",
   "execution_count": 14,
   "metadata": {},
   "outputs": [
    {
     "name": "stdout",
     "output_type": "stream",
     "text": [
      "CPU times: user 3.15 ms, sys: 2.1 ms, total: 5.25 ms\n",
      "Wall time: 3.52 ms\n",
      "CPU times: user 776 µs, sys: 129 µs, total: 905 µs\n",
      "Wall time: 806 µs\n",
      "L1 norm of difference: 0.000003\n"
     ]
    }
   ],
   "source": [
    "pen_val = 2\n",
    "l1_ratio = 0.5\n",
    "\n",
    "%time est = LassoENet(pen_val=pen_val, l1_ratio=l1_ratio).fit(X, y)\n",
    "\n",
    "%time est_sk = ENetSklearn(alpha=pen_val, l1_ratio=l1_ratio).fit(X, y)\n",
    "\n",
    "# let's check we get the same answer\n",
    "print_error(est.coef_, est_sk.coef_)"
   ]
  },
  {
   "cell_type": "code",
   "execution_count": 15,
   "metadata": {
    "scrolled": false
   },
   "outputs": [
    {
     "name": "stdout",
     "output_type": "stream",
     "text": [
      "CPU times: user 829 ms, sys: 20 ms, total: 848 ms\n",
      "Wall time: 848 ms\n",
      "CPU times: user 48.1 ms, sys: 728 µs, total: 48.8 ms\n",
      "Wall time: 48.7 ms\n"
     ]
    }
   ],
   "source": [
    "# tunes over a few l1_ratio valeues by default\n",
    "%time est = LassoENetCV().fit(X, y) \n",
    "\n",
    "# l1 ratio sequence\n",
    "%time est_sk = ElasticNetCVSklearn().fit(X, y) "
   ]
  },
  {
   "cell_type": "code",
   "execution_count": 16,
   "metadata": {},
   "outputs": [
    {
     "name": "stdout",
     "output_type": "stream",
     "text": [
      "L1 norm of difference to true coefficient: 1.017879\n",
      "L1 norm of difference to true coefficient: 0.973687\n"
     ]
    }
   ],
   "source": [
    "# let's see how far from the truth we are\n",
    "print_error(est.best_estimator_.coef_, coef_true, 'true coefficient')\n",
    "print_error(est_sk.coef_, coef_true, 'true coefficient')"
   ]
  },
  {
   "cell_type": "markdown",
   "metadata": {},
   "source": [
    "# ElasticNet with Tikhonov"
   ]
  },
  {
   "cell_type": "code",
   "execution_count": 17,
   "metadata": {},
   "outputs": [],
   "source": [
    "est = LassoENet(pen_val=pen_val, l1_ratio=l1_ratio, tikhonov=mat).fit(X, y)\n",
    "est = LassoENetCV(tikhonov=mat).fit(X, y) "
   ]
  },
  {
   "cell_type": "markdown",
   "metadata": {},
   "source": [
    "# Group Lasso"
   ]
  },
  {
   "cell_type": "code",
   "execution_count": 18,
   "metadata": {},
   "outputs": [
    {
     "name": "stdout",
     "output_type": "stream",
     "text": [
      "CPU times: user 3.61 ms, sys: 2.08 ms, total: 5.69 ms\n",
      "Wall time: 3.89 ms\n"
     ]
    },
    {
     "data": {
      "text/plain": [
       "GroupLasso(groups=[array([0, 1, 2, 3, 4]), array([5, 6, 7, 8, 9])])"
      ]
     },
     "execution_count": 18,
     "metadata": {},
     "output_type": "execute_result"
    }
   ],
   "source": [
    "groups = [np.arange(5), np.arange(5, 10)]\n",
    "\n",
    "est = GroupLasso(groups=groups, # specify indices of groups \n",
    "                 weights='size', # default setting -- weight groups by 1/sqrt(group_size)\n",
    "                 pen_val=1)\n",
    "%time est.fit(X, y)"
   ]
  },
  {
   "cell_type": "code",
   "execution_count": 19,
   "metadata": {},
   "outputs": [
    {
     "name": "stdout",
     "output_type": "stream",
     "text": [
      "CPU times: user 890 ms, sys: 14.2 ms, total: 904 ms\n",
      "Wall time: 910 ms\n"
     ]
    }
   ],
   "source": [
    "%time est = GroupLassoCV(groups=groups).fit(X, y)"
   ]
  },
  {
   "cell_type": "markdown",
   "metadata": {},
   "source": [
    "# Folded concave penalty\n",
    "\n",
    "Now let's use a concave penalty instead of a Lasso. We use SCAD by default. This is a two step estimator where we initializer from somewhere (e.g. a vanilla Lasso) then improve our estimate using a concave penalty."
   ]
  },
  {
   "cell_type": "code",
   "execution_count": 20,
   "metadata": {},
   "outputs": [
    {
     "name": "stdout",
     "output_type": "stream",
     "text": [
      "CPU times: user 1.95 ms, sys: 2 µs, total: 1.95 ms\n",
      "Wall time: 1.96 ms\n"
     ]
    },
    {
     "data": {
      "text/plain": [
       "FcpLLA(init=LassoCV())"
      ]
     },
     "execution_count": 20,
     "metadata": {},
     "output_type": "execute_result"
    }
   ],
   "source": [
    "init = LassoCV().fit(X, y) # initialize with a Lasso \n",
    "est = FcpLLA(init=init)\n",
    "# est = FcpLLA(init='default') # we could have just stuck with the default\n",
    "\n",
    "%time est.fit(X, y)"
   ]
  },
  {
   "cell_type": "markdown",
   "metadata": {},
   "source": [
    "### FCP with CV\n",
    "\n",
    "And we can tune the folded concave penalty using cross-validation. Note behind the scences we fit an initializer once, then pass this initializer to each cross-validation fold."
   ]
  },
  {
   "cell_type": "code",
   "execution_count": 21,
   "metadata": {},
   "outputs": [
    {
     "name": "stdout",
     "output_type": "stream",
     "text": [
      "CPU times: user 3.02 s, sys: 13.3 ms, total: 3.03 s\n",
      "Wall time: 3.03 s\n"
     ]
    },
    {
     "data": {
      "text/plain": [
       "FcpLLACV()"
      ]
     },
     "execution_count": 21,
     "metadata": {},
     "output_type": "execute_result"
    }
   ],
   "source": [
    "# we have a default tuning parameter range which similarly to how LassoCV picks\n",
    "# its default tuning parameter sequence\n",
    "est = FcpLLACV(init='default', cv_scorer=LinRegScorer(), pen_min_mult=1e-4)\n",
    "%time est.fit(X, y)"
   ]
  },
  {
   "cell_type": "code",
   "execution_count": 22,
   "metadata": {},
   "outputs": [
    {
     "name": "stdout",
     "output_type": "stream",
     "text": [
      "Lasso initilizer\n",
      "L1 norm of difference to true coefficient: 0.958726\n",
      "FCP estimate\n",
      "L1 norm of difference to true coefficient: 0.520813\n"
     ]
    }
   ],
   "source": [
    "# now let see how we did compare to our initial estimate\n",
    "print(\"Lasso initilizer\")\n",
    "print_error(est.init_est_.best_estimator_.coef_, coef_true, 'true coefficient')\n",
    "\n",
    "print(\"FCP estimate\")\n",
    "print_error(est.best_estimator_.coef_, coef_true, 'true coefficient')"
   ]
  },
  {
   "cell_type": "code",
   "execution_count": 23,
   "metadata": {},
   "outputs": [
    {
     "data": {
      "image/png": "[encoded data removed]",
      "text/plain": [
       "<Figure size 432x288 with 1 Axes>"
      ]
     },
     "metadata": {
      "needs_background": "light"
     },
     "output_type": "display_data"
    },
    {
     "data": {
      "image/png": "[encoded data removed]",
      "text/plain": [
       "<Figure size 432x288 with 1 Axes>"
      ]
     },
     "metadata": {
      "needs_background": "light"
     },
     "output_type": "display_data"
    }
   ],
   "source": [
    "# plotting the tuning path\n",
    "plt.figure()\n",
    "plot_cv_path(cv_results=est.cv_results_,\n",
    "             param='pen_val', metric='r2',\n",
    "             log_param=True,\n",
    "             selected_idx=est.best_tune_idx_)\n",
    "\n",
    "\n",
    "plt.figure()\n",
    "plot_cv_path(cv_results=est.cv_results_,\n",
    "             param='pen_val', metric='n_nonzero',\n",
    "             log_param=True,\n",
    "             show_train=False,\n",
    "             selected_idx=est.best_tune_idx_)"
   ]
  },
  {
   "cell_type": "code",
   "execution_count": null,
   "metadata": {},
   "outputs": [],
   "source": []
  }
 ],
 "metadata": {
  "kernelspec": {
   "display_name": "Python [conda env:repro_lap_reg] *",
   "language": "python",
   "name": "conda-env-repro_lap_reg-py"
  },
  "language_info": {
   "codemirror_mode": {
    "name": "ipython",
    "version": 3
   },
   "file_extension": ".py",
   "mimetype": "text/x-python",
   "name": "python",
   "nbconvert_exporter": "python",
   "pygments_lexer": "ipython3",
   "version": "3.6.12"
  }
 },
 "nbformat": 4,
 "nbformat_minor": 4
}
