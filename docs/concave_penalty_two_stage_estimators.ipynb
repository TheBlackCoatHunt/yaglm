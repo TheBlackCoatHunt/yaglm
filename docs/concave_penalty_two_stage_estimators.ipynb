{
 "cells": [
  {
   "cell_type": "markdown",
   "metadata": {},
   "source": [
    "# Fitting concave penalties with a two stage estimator via the LLA algorithm\n",
    "\n",
    "Following Fan et al. 2014 we fit concave penalties such as SCAD with a two stag algorithm.\n",
    "\n",
    "1. Find a reasonable initial guess (e.g. with a Lasso estimate).\n",
    "\n",
    "2. Refine the initial guess using the local linear approximation (LLA) algorithm\n",
    "\n",
    "If our initializer is \"good enough\" then this procedure comes with strong statistical guarantee after **one step** of the LLA algorithm. \n"
   ]
  },
  {
   "cell_type": "code",
   "execution_count": 1,
   "metadata": {},
   "outputs": [],
   "source": [
    "import numpy as np\n",
    "from ya_glm.toy_data import sample_sparse_lin_reg\n",
    "\n",
    "from ya_glm.backends.fista.LinearRegression import FcpLLA, FcpLLACV, LassoCV"
   ]
  },
  {
   "cell_type": "code",
   "execution_count": 2,
   "metadata": {},
   "outputs": [],
   "source": [
    "# toy sparse linear regression data\n",
    "X, y = sample_sparse_lin_reg(n_samples=100, n_features=10, n_nonzero=5,\n",
    "                             random_state=234)[0:2]"
   ]
  },
  {
   "cell_type": "markdown",
   "metadata": {},
   "source": [
    "# Single concave estimator"
   ]
  },
  {
   "cell_type": "code",
   "execution_count": 3,
   "metadata": {},
   "outputs": [
    {
     "data": {
      "text/plain": [
       "<function ya_glm.pen_glms.GlmFcpLLA.GlmFcpLLA.__init__(self, pen_val=1, pen_func='scad', pen_func_kws={}, init='default', lla_n_steps=1, lla_kws={}, ridge_pen_val=None, ridge_weights=None, tikhonov=None, groups=None, fit_intercept=True, standardize=False, opt_kws={})>"
      ]
     },
     "execution_count": 3,
     "metadata": {},
     "output_type": "execute_result"
    }
   ],
   "source": [
    "FcpLLA.__init__"
   ]
  },
  {
   "cell_type": "markdown",
   "metadata": {},
   "source": [
    "### Specifying the initializer"
   ]
  },
  {
   "cell_type": "code",
   "execution_count": 4,
   "metadata": {},
   "outputs": [],
   "source": [
    "# you can specify the initial estimator\n",
    "init = LassoCV() # either unfitted\n",
    "# init = LassoCV().fit(X, y) # or already fitted\n",
    "# init = 'default' # FcpLLA comes with a sensible default estimator  \n",
    "# init = {'intercept': 0,\n",
    "#         'coef': np.zeros(X.shape[1])} # or you can manually specify the initial values\n",
    "\n",
    "est = FcpLLA(init=init).fit(X, y)"
   ]
  },
  {
   "cell_type": "code",
   "execution_count": 5,
   "metadata": {},
   "outputs": [
    {
     "data": {
      "text/plain": [
       "FcpLLA(lla_n_steps=1000)"
      ]
     },
     "execution_count": 5,
     "metadata": {},
     "output_type": "execute_result"
    }
   ],
   "source": [
    "# est = FcpLLA(lla_n_steps=1) # by defualt we do one LLA step\n",
    "est = FcpLLA(lla_n_steps=1000) # but you can run the LLA algorithm to convergence\n",
    "\n",
    "est.fit(X, y)"
   ]
  },
  {
   "cell_type": "markdown",
   "metadata": {},
   "source": [
    "# Cross-validation"
   ]
  },
  {
   "cell_type": "code",
   "execution_count": 6,
   "metadata": {},
   "outputs": [],
   "source": [
    "est = FcpLLA(init=LassoCV())\n",
    "\n",
    "# note we fit the init esimator only once before running cross-validation\n",
    "# each fold is initialized from the same place!\n",
    "est_cv = FcpLLACV(estimator=est).fit(X, y)"
   ]
  },
  {
   "cell_type": "code",
   "execution_count": 7,
   "metadata": {},
   "outputs": [
    {
     "data": {
      "text/plain": [
       "array([ 0.00000000e+00,  0.00000000e+00, -1.36847748e-07,  0.00000000e+00,\n",
       "        0.00000000e+00,  0.00000000e+00,  0.00000000e+00,  0.00000000e+00,\n",
       "        0.00000000e+00,  0.00000000e+00])"
      ]
     },
     "execution_count": 7,
     "metadata": {},
     "output_type": "execute_result"
    }
   ],
   "source": [
    "# for concave penalties fit with the LLA algorithm we \n",
    "# can also compute the largest reasonable penalty value above which\n",
    "# the algorithm returns 0\n",
    "est = FcpLLA(init=LassoCV().fit(X, y))\n",
    "pen_val_max = est.get_pen_val_max(X, y, init_data=est.get_init_data(X, y))\n",
    "\n",
    "est.set_params(pen_val=pen_val_max)\n",
    "est.fit(X, y)\n",
    "est.coef_"
   ]
  },
  {
   "cell_type": "code",
   "execution_count": null,
   "metadata": {},
   "outputs": [],
   "source": []
  }
 ],
 "metadata": {
  "kernelspec": {
   "display_name": "Python [conda env:root] *",
   "language": "python",
   "name": "conda-root-py"
  },
  "language_info": {
   "codemirror_mode": {
    "name": "ipython",
    "version": 3
   },
   "file_extension": ".py",
   "mimetype": "text/x-python",
   "name": "python",
   "nbconvert_exporter": "python",
   "pygments_lexer": "ipython3",
   "version": "3.7.4"
  }
 },
 "nbformat": 4,
 "nbformat_minor": 2
}
