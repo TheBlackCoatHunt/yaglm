{
 "cells": [
  {
   "cell_type": "markdown",
   "metadata": {},
   "source": [
    "This notebook walks through the basic functionality of the `ya_glm` package for linear regression. Some of this overlaps with existing sklearn functionality in which case we get the same answer. Some of this is not in sklearn e.g. Tikhonov, concave penalties, user specified group Lasso."
   ]
  },
  {
   "cell_type": "code",
   "execution_count": 4,
   "metadata": {},
   "outputs": [],
   "source": [
    "import matplotlib.pyplot as plt\n",
    "import numpy as np\n",
    "\n",
    "from ya_glm.backends.fista.LinearRegression import Vanilla, Lasso, Ridge, LassoENet, GroupLasso\n",
    "from ya_glm.backends.fista.LinearRegression import LassoCV, RidgeCV, LassoENetCV, GroupLassoCV\n",
    "from ya_glm.backends.fista.LinearRegression import FcpLLA, FcpLLACV\n",
    "\n",
    "# useful functionality for cross-validations\n",
    "from ya_glm.models.linear_regression import LinRegScorer\n",
    "from ya_glm.cv.cv_viz import plot_cv_path\n",
    "\n",
    "from ya_glm.toy_data import sample_sparse_lin_reg\n",
    "\n",
    "# Let's make sure our algorithms give the same answer as sklearn\n",
    "from sklearn.linear_model import LinearRegression as LinRegSklearn\n",
    "from sklearn.linear_model import Lasso as LassoSklearn\n",
    "from sklearn.linear_model import Ridge as RidgeSklearn\n",
    "from sklearn.linear_model import ElasticNet as ENetSklearn\n",
    "\n",
    "from sklearn.linear_model import LassoCV as LassoCVSklearn\n",
    "from sklearn.linear_model import RidgeCV as RidgeCVSklearn\n",
    "from sklearn.linear_model import ElasticNetCV as ElasticNetCVSklearn"
   ]
  },
  {
   "cell_type": "code",
   "execution_count": 5,
   "metadata": {},
   "outputs": [
    {
     "data": {
      "text/plain": [
       "Text(0.5, 1.0, 'True coefficient')"
      ]
     },
     "execution_count": 5,
     "metadata": {},
     "output_type": "execute_result"
    },
    {
     "data": {
      "image/png": "[encoded data removed]",
      "text/plain": [
       "<Figure size 432x288 with 1 Axes>"
      ]
     },
     "metadata": {
      "needs_background": "light"
     },
     "output_type": "display_data"
    }
   ],
   "source": [
    "# sample some linear regression data with a sparse coefficient\n",
    "X, y, coef_true, intercept_true = \\\n",
    "    sample_sparse_lin_reg(n_samples=100, n_features=10, n_nonzero=5,\n",
    "                          noise_std=1,\n",
    "                          random_state=234)\n",
    "\n",
    "plt.scatter(np.arange(len(coef_true)), coef_true)\n",
    "plt.title(\"True coefficient\")"
   ]
  },
  {
   "cell_type": "code",
   "execution_count": 3,
   "metadata": {},
   "outputs": [],
   "source": [
    "def print_error(a, b, to=None):\n",
    "    err = abs(a - b).sum()\n",
    "    if to is not None:\n",
    "        print('L1 norm of difference to {}: {:1.6f}'.format(to, err))\n",
    "    else:\n",
    "        print('L1 norm of difference: {:1.6f}'.format(err))"
   ]
  },
  {
   "cell_type": "markdown",
   "metadata": {},
   "source": [
    "# Vanilla linear regression\n",
    "\n",
    "Let's check we get the same answer as sklearn for basic linear regression"
   ]
  },
  {
   "cell_type": "code",
   "execution_count": 4,
   "metadata": {},
   "outputs": [
    {
     "name": "stdout",
     "output_type": "stream",
     "text": [
      "CPU times: user 2.68 ms, sys: 1.17 ms, total: 3.84 ms\n",
      "Wall time: 2.86 ms\n",
      "CPU times: user 768 µs, sys: 325 µs, total: 1.09 ms\n",
      "Wall time: 884 µs\n",
      "L1 norm of difference to sklearn: 0.000133\n"
     ]
    }
   ],
   "source": [
    "%time est = Vanilla().fit(X, y)\n",
    "\n",
    "%time est_sk = LinRegSklearn().fit(X, y)\n",
    "\n",
    "# double check we get the same answer as sklearn!\n",
    "print_error(est.coef_, est_sk.coef_, to='sklearn')"
   ]
  },
  {
   "cell_type": "markdown",
   "metadata": {},
   "source": [
    "# Lasso\n",
    "\n",
    "Similarly let's check we match sklearn for Lasso"
   ]
  },
  {
   "cell_type": "code",
   "execution_count": 5,
   "metadata": {},
   "outputs": [
    {
     "name": "stdout",
     "output_type": "stream",
     "text": [
      "CPU times: user 2.45 ms, sys: 1.16 ms, total: 3.6 ms\n",
      "Wall time: 2.68 ms\n",
      "CPU times: user 818 µs, sys: 314 µs, total: 1.13 ms\n",
      "Wall time: 916 µs\n",
      "L1 norm of difference to sklearn: 0.000000\n"
     ]
    }
   ],
   "source": [
    "pen_val = 2\n",
    "\n",
    "%time est = Lasso(pen_val=pen_val).fit(X, y)\n",
    "\n",
    "%time est_sk = LassoSklearn(alpha=pen_val).fit(X, y)\n",
    "\n",
    "# double check we get the same answer as sklearn!\n",
    "print_error(est.coef_, est_sk.coef_, 'sklearn')"
   ]
  },
  {
   "cell_type": "markdown",
   "metadata": {},
   "source": [
    "### Lasso with Cross-Validation\n",
    "\n",
    "Just like in LassoCV we can run cross-validation using a path/homomtopy algorithm to make computing the whole training path very fast!"
   ]
  },
  {
   "cell_type": "code",
   "execution_count": 6,
   "metadata": {
    "scrolled": false
   },
   "outputs": [
    {
     "name": "stdout",
     "output_type": "stream",
     "text": [
      "CPU times: user 49.3 ms, sys: 1.91 ms, total: 51.2 ms\n",
      "Wall time: 49.9 ms\n",
      "CPU times: user 1.02 s, sys: 24.3 ms, total: 1.05 s\n",
      "Wall time: 1.14 s\n"
     ]
    },
    {
     "data": {
      "text/plain": [
       "LassoCV(cv_scorer=<ya_glm.models.linear_regression.LinRegScorer object at 0x7fcd3823b890>,\n",
       "        estimator=Lasso(fit_intercept=False))"
      ]
     },
     "execution_count": 6,
     "metadata": {},
     "output_type": "execute_result"
    }
   ],
   "source": [
    "%time est_sk = LassoCVSklearn(fit_intercept=False).fit(X, y) \n",
    "\n",
    "# fits with Lasso homotopy path algorithm\n",
    "\n",
    "# notice we pass in a Lasso base class into estimator()\n",
    "# this is how we control the arguments to Lasso e.g. fit_intercept\n",
    "\n",
    "# also notice we pass in the (optional) LinRegScorer() -- this tracks \n",
    "# additional data during cross-validation e.g. the number of non-zero coefficients\n",
    "est_path = LassoCV(estimator=Lasso(fit_intercept=False),\n",
    "                   cv_scorer=LinRegScorer())\n",
    "%time est_path.fit(X, y) # fits with Lasso homotopy path algorithm"
   ]
  },
  {
   "cell_type": "code",
   "execution_count": 7,
   "metadata": {},
   "outputs": [
    {
     "name": "stdout",
     "output_type": "stream",
     "text": [
      "L1 norm of difference to true coefficient: 0.973099\n",
      "L1 norm of difference to true coefficient: 0.973033\n"
     ]
    }
   ],
   "source": [
    "# Let's see how far our estimate is from the true coefficient\n",
    "print_error(est_path.best_estimator_.coef_, coef_true, 'true coefficient')\n",
    "print_error(est_sk.coef_, coef_true, 'true coefficient')"
   ]
  },
  {
   "cell_type": "markdown",
   "metadata": {},
   "source": [
    "### Lasso Path visualizations\n",
    "\n",
    "We include some very basic visualizations for the cross-validation path. For example, we can see the range of number of non-zero coefficients computed along the tuning path. This allows us to double check we fit the entire ``reasonable\" range of tuning parameters."
   ]
  },
  {
   "cell_type": "code",
   "execution_count": 8,
   "metadata": {},
   "outputs": [
    {
     "data": {
      "text/plain": [
       "Text(0.5, 1.0, 'Lasso tuning path support size of cv train coef')"
      ]
     },
     "execution_count": 8,
     "metadata": {},
     "output_type": "execute_result"
    },
    {
     "data": {
      "image/png": "[encoded data removed]",
      "text/plain": [
       "<Figure size 432x288 with 1 Axes>"
      ]
     },
     "metadata": {
      "needs_background": "light"
     },
     "output_type": "display_data"
    },
    {
     "data": {
      "image/png": "[encoded data removed]",
      "text/plain": [
       "<Figure size 432x288 with 1 Axes>"
      ]
     },
     "metadata": {
      "needs_background": "light"
     },
     "output_type": "display_data"
    }
   ],
   "source": [
    "plt.figure()\n",
    "plot_cv_path(cv_results=est_path.cv_results_,\n",
    "             param='pen_val', metric='r2',\n",
    "             log_param=True,\n",
    "             selected_idx=est_path.best_tune_idx_)\n",
    "plt.title(\"Lasso tuning path scores\")\n",
    "\n",
    "\n",
    "plt.figure()\n",
    "plot_cv_path(cv_results=est_path.cv_results_,\n",
    "             param='pen_val', metric='n_nonzero',\n",
    "             log_param=True,\n",
    "             show_train=False,\n",
    "             selected_idx=est_path.best_tune_idx_)\n",
    "plt.title(\"Lasso tuning path support size of cv train coef\")"
   ]
  },
  {
   "cell_type": "markdown",
   "metadata": {},
   "source": [
    "# Ridge\n",
    "\n",
    "Ok now let's check ridge regression"
   ]
  },
  {
   "cell_type": "code",
   "execution_count": 9,
   "metadata": {},
   "outputs": [
    {
     "name": "stdout",
     "output_type": "stream",
     "text": [
      "CPU times: user 3.08 ms, sys: 2.13 ms, total: 5.2 ms\n",
      "Wall time: 3.24 ms\n",
      "CPU times: user 986 µs, sys: 300 µs, total: 1.29 ms\n",
      "Wall time: 1.14 ms\n",
      "L1 norm of difference: 0.000064\n"
     ]
    }
   ],
   "source": [
    "pen_val = 2\n",
    "\n",
    "%time est = Ridge(pen_val=pen_val).fit(X, y)\n",
    "\n",
    "# sklearn scales the ridge regression loss differently so we need to \n",
    "# scale the tuning parameter accordingly\n",
    "%time est_sk = RidgeSklearn(alpha=X.shape[0] * pen_val).fit(X, y)\n",
    "\n",
    "# check we get the same answer\n",
    "print_error(est.coef_, est_sk.coef_)"
   ]
  },
  {
   "cell_type": "markdown",
   "metadata": {},
   "source": [
    "### Ridge with CV\n",
    "\n",
    "Our ridge CV comes with a guess at the reasonable range of tuning parameter values."
   ]
  },
  {
   "cell_type": "code",
   "execution_count": 10,
   "metadata": {},
   "outputs": [
    {
     "name": "stdout",
     "output_type": "stream",
     "text": [
      "CPU times: user 1.06 s, sys: 16.7 ms, total: 1.08 s\n",
      "Wall time: 1.09 s\n",
      "L1 norm of difference to true coefficient: 1.092882\n",
      "CPU times: user 1.63 ms, sys: 290 µs, total: 1.92 ms\n",
      "Wall time: 1.78 ms\n",
      "L1 norm of difference to true coefficient: 0.985951\n"
     ]
    }
   ],
   "source": [
    "# our ridge CV\n",
    "est = RidgeCV(pen_min_mult=1e-5, cv_scorer=LinRegScorer())\n",
    "%time est.fit(X, y) \n",
    "print_error(est.best_estimator_.coef_, coef_true, 'true coefficient')\n",
    "\n",
    "\n",
    "# Sklearn's ridge CV\n",
    "%time est_sk = RidgeCVSklearn().fit(X, y)\n",
    "print_error(est_sk.coef_, coef_true, 'true coefficient')"
   ]
  },
  {
   "cell_type": "markdown",
   "metadata": {},
   "source": [
    "### Ridge CV visualization\n",
    "\n",
    "By plotting the L2 norm of the estimated coefficient we can indeed verify that we have tuning over a reasonable range of tuning parameters."
   ]
  },
  {
   "cell_type": "code",
   "execution_count": 11,
   "metadata": {},
   "outputs": [
    {
     "data": {
      "text/plain": [
       "Text(0.5, 1.0, 'Length of coefficient CV-path')"
      ]
     },
     "execution_count": 11,
     "metadata": {},
     "output_type": "execute_result"
    },
    {
     "data": {
      "image/png": "[encoded data removed]",
      "text/plain": [
       "<Figure size 432x288 with 1 Axes>"
      ]
     },
     "metadata": {
      "needs_background": "light"
     },
     "output_type": "display_data"
    },
    {
     "data": {
      "image/png": "[encoded data removed]",
      "text/plain": [
       "<Figure size 432x288 with 1 Axes>"
      ]
     },
     "metadata": {
      "needs_background": "light"
     },
     "output_type": "display_data"
    }
   ],
   "source": [
    "plt.figure()\n",
    "plot_cv_path(cv_results=est.cv_results_,\n",
    "             param='pen_val', metric='r2',\n",
    "             log_param=True,\n",
    "             selected_idx=est.best_tune_idx_)\n",
    "plt.title(\"Cross-validation score path\")\n",
    "\n",
    "plt.figure()\n",
    "plot_cv_path(cv_results=est.cv_results_,\n",
    "             param='pen_val', metric='l2_norm',\n",
    "             show_train=False,\n",
    "             log_param=True)\n",
    "\n",
    "plt.title(\"Length of coefficient CV-path\")"
   ]
  },
  {
   "cell_type": "markdown",
   "metadata": {},
   "source": [
    "# Tikhonov"
   ]
  },
  {
   "cell_type": "code",
   "execution_count": 12,
   "metadata": {},
   "outputs": [
    {
     "data": {
      "text/plain": [
       "Ridge(tikhonov=array([[-1.69202050e+00, -1.38518116e+00, -3.93557649e-01,\n",
       "        -8.65448980e-01,  1.94674917e-02,  1.89901919e+00,\n",
       "         9.08248271e-01,  2.54152126e-01,  5.82901911e-01,\n",
       "        -7.31290973e-02],\n",
       "       [-6.53759267e-01, -3.48997896e-02,  6.96137060e-01,\n",
       "        -8.84926927e-01,  1.19852196e-01,  7.38622220e-01,\n",
       "         2.19253331e+00, -7.60366445e-01,  4.61418417e-01,\n",
       "         1.92232587e-01],\n",
       "       [ 1.72457644e-01...\n",
       "        -2.09928283e-01, -3.25412486e-01, -3.02884154e-01,\n",
       "         5.96315745e-01],\n",
       "       [ 2.45375431e-01,  8.74916645e-01,  9.70628837e-01,\n",
       "         3.63765917e-01,  3.01723030e-01, -1.58965025e+00,\n",
       "         4.11783466e-02, -1.43879957e-01, -2.07716247e-01,\n",
       "         1.53029604e+00],\n",
       "       [ 8.91308144e-01,  1.43460523e+00, -1.99389244e+00,\n",
       "         3.83091596e-01,  6.57147513e-01, -1.70713619e+00,\n",
       "        -4.76129704e-02,  6.17705304e-01, -6.59501706e-01,\n",
       "         2.54542364e+00]]))"
      ]
     },
     "execution_count": 12,
     "metadata": {},
     "output_type": "execute_result"
    }
   ],
   "source": [
    "mat = np.random.normal(size=(X.shape[1], X.shape[1]))\n",
    "est = Ridge(tikhonov=mat)\n",
    "est.fit(X, y)"
   ]
  },
  {
   "cell_type": "code",
   "execution_count": 13,
   "metadata": {},
   "outputs": [],
   "source": [
    "# TODO: tik with CV"
   ]
  },
  {
   "cell_type": "markdown",
   "metadata": {},
   "source": [
    "# ElasticNet\n",
    "\n",
    "You probably get the idea by this point, but here is ElasticNet. Our ElasticNetCV tunes over l1_ratio by default. Not very useful here since the desing matrix is fully independent."
   ]
  },
  {
   "cell_type": "code",
   "execution_count": 14,
   "metadata": {},
   "outputs": [
    {
     "name": "stdout",
     "output_type": "stream",
     "text": [
      "CPU times: user 3.95 ms, sys: 2.48 ms, total: 6.44 ms\n",
      "Wall time: 4.27 ms\n",
      "CPU times: user 1.1 ms, sys: 227 µs, total: 1.32 ms\n",
      "Wall time: 1.17 ms\n",
      "L1 norm of difference: 0.000001\n"
     ]
    }
   ],
   "source": [
    "pen_val = 2\n",
    "l1_ratio = 0.5\n",
    "\n",
    "%time est = LassoENet(pen_val=pen_val, l1_ratio=l1_ratio).fit(X, y)\n",
    "\n",
    "%time est_sk = ENetSklearn(alpha=pen_val, l1_ratio=l1_ratio).fit(X, y)\n",
    "\n",
    "# let's check we get the same answer\n",
    "print_error(est.coef_, est_sk.coef_)"
   ]
  },
  {
   "cell_type": "code",
   "execution_count": 15,
   "metadata": {
    "scrolled": false
   },
   "outputs": [
    {
     "name": "stdout",
     "output_type": "stream",
     "text": [
      "CPU times: user 877 ms, sys: 21.5 ms, total: 899 ms\n",
      "Wall time: 905 ms\n",
      "CPU times: user 50.8 ms, sys: 686 µs, total: 51.5 ms\n",
      "Wall time: 51.7 ms\n"
     ]
    }
   ],
   "source": [
    "# tunes over a few l1_ratio valeues by default\n",
    "%time est = LassoENetCV().fit(X, y) \n",
    "\n",
    "# l1 ratio sequence\n",
    "%time est_sk = ElasticNetCVSklearn().fit(X, y) "
   ]
  },
  {
   "cell_type": "code",
   "execution_count": 16,
   "metadata": {},
   "outputs": [
    {
     "name": "stdout",
     "output_type": "stream",
     "text": [
      "L1 norm of difference to true coefficient: 1.019981\n",
      "L1 norm of difference to true coefficient: 0.973687\n"
     ]
    }
   ],
   "source": [
    "# let's see how far from the truth we are\n",
    "print_error(est.best_estimator_.coef_, coef_true, 'true coefficient')\n",
    "print_error(est_sk.coef_, coef_true, 'true coefficient')"
   ]
  },
  {
   "cell_type": "markdown",
   "metadata": {},
   "source": [
    "# ElasticNet with Tikhonov"
   ]
  },
  {
   "cell_type": "code",
   "execution_count": 17,
   "metadata": {},
   "outputs": [],
   "source": [
    "# single fit\n",
    "est = LassoENet(pen_val=pen_val, l1_ratio=l1_ratio, tikhonov=mat).fit(X, y)\n",
    "\n",
    "# cross-validation\n",
    "# notice the penalty arguments are controlled through the estimator\n",
    "est = LassoENetCV(estimator=LassoENet(tikhonov=mat)).fit(X, y) "
   ]
  },
  {
   "cell_type": "markdown",
   "metadata": {},
   "source": [
    "# Group Lasso"
   ]
  },
  {
   "cell_type": "code",
   "execution_count": 18,
   "metadata": {},
   "outputs": [
    {
     "name": "stdout",
     "output_type": "stream",
     "text": [
      "CPU times: user 3.92 ms, sys: 1.41 ms, total: 5.33 ms\n",
      "Wall time: 5.13 ms\n"
     ]
    },
    {
     "data": {
      "text/plain": [
       "GroupLasso(groups=[array([0, 1, 2, 3, 4]), array([5, 6, 7, 8, 9])])"
      ]
     },
     "execution_count": 18,
     "metadata": {},
     "output_type": "execute_result"
    }
   ],
   "source": [
    "groups = [np.arange(5), np.arange(5, 10)]\n",
    "\n",
    "est = GroupLasso(groups=groups, # specify indices of groups \n",
    "                 weights='size', # default setting -- weight groups by 1/sqrt(group_size)\n",
    "                 pen_val=1)\n",
    "%time est.fit(X, y)"
   ]
  },
  {
   "cell_type": "code",
   "execution_count": 19,
   "metadata": {},
   "outputs": [
    {
     "name": "stdout",
     "output_type": "stream",
     "text": [
      "CPU times: user 1.53 s, sys: 16 ms, total: 1.55 s\n",
      "Wall time: 2.24 s\n"
     ]
    }
   ],
   "source": [
    "# note we set the groups using the estimator argument\n",
    "%time est = GroupLassoCV(estimator=GroupLasso(groups=groups)).fit(X, y)"
   ]
  },
  {
   "cell_type": "markdown",
   "metadata": {},
   "source": [
    "# Folded concave penalty\n",
    "\n",
    "Now let's use a concave penalty instead of a Lasso. We use SCAD by default. This is a two step estimator where we initializer from somewhere (e.g. a vanilla Lasso) then improve our estimate using a concave penalty."
   ]
  },
  {
   "cell_type": "code",
   "execution_count": 6,
   "metadata": {},
   "outputs": [
    {
     "name": "stdout",
     "output_type": "stream",
     "text": [
      "CPU times: user 1.73 ms, sys: 14 µs, total: 1.74 ms\n",
      "Wall time: 1.75 ms\n"
     ]
    },
    {
     "data": {
      "text/plain": [
       "FcpLLA(init=LassoCV())"
      ]
     },
     "execution_count": 6,
     "metadata": {},
     "output_type": "execute_result"
    }
   ],
   "source": [
    "init = LassoCV().fit(X, y) # initialize with a Lasso \n",
    "est = FcpLLA(init=init)\n",
    "# est = FcpLLA(init='default') # we could have just stuck with the default\n",
    "\n",
    "%time est.fit(X, y)"
   ]
  },
  {
   "cell_type": "markdown",
   "metadata": {},
   "source": [
    "### FCP with CV\n",
    "\n",
    "And we can tune the folded concave penalty using cross-validation. Note behind the scences we fit an initializer once, then pass this initializer to each cross-validation fold."
   ]
  },
  {
   "cell_type": "code",
   "execution_count": 8,
   "metadata": {},
   "outputs": [
    {
     "name": "stdout",
     "output_type": "stream",
     "text": [
      "CPU times: user 2.53 s, sys: 21.1 ms, total: 2.55 s\n",
      "Wall time: 2.56 s\n"
     ]
    },
    {
     "data": {
      "text/plain": [
       "FcpLLACV(cv_scorer=<ya_glm.models.linear_regression.LinRegScorer object at 0x7f80aa731b90>)"
      ]
     },
     "execution_count": 8,
     "metadata": {},
     "output_type": "execute_result"
    }
   ],
   "source": [
    "# we have a default tuning parameter range which similarly to how LassoCV picks\n",
    "# its default tuning parameter sequence\n",
    "est = FcpLLACV(cv_scorer=LinRegScorer())\n",
    "%time est.fit(X, y)"
   ]
  },
  {
   "cell_type": "code",
   "execution_count": 22,
   "metadata": {},
   "outputs": [
    {
     "name": "stdout",
     "output_type": "stream",
     "text": [
      "Lasso initilizer\n",
      "L1 norm of difference to true coefficient: 0.958730\n",
      "FCP estimate\n",
      "L1 norm of difference to true coefficient: 0.555128\n"
     ]
    }
   ],
   "source": [
    "# now let see how we did compare to our initial estimate\n",
    "print(\"Lasso initilizer\")\n",
    "print_error(est.init_est_.best_estimator_.coef_, coef_true, 'true coefficient')\n",
    "\n",
    "print(\"FCP estimate\")\n",
    "print_error(est.best_estimator_.coef_, coef_true, 'true coefficient')"
   ]
  },
  {
   "cell_type": "code",
   "execution_count": 23,
   "metadata": {},
   "outputs": [
    {
     "data": {
      "image/png": "[encoded data removed]",
      "text/plain": [
       "<Figure size 432x288 with 1 Axes>"
      ]
     },
     "metadata": {
      "needs_background": "light"
     },
     "output_type": "display_data"
    },
    {
     "data": {
      "image/png": "[encoded data removed]",
      "text/plain": [
       "<Figure size 432x288 with 1 Axes>"
      ]
     },
     "metadata": {
      "needs_background": "light"
     },
     "output_type": "display_data"
    }
   ],
   "source": [
    "# plotting the tuning path\n",
    "plt.figure()\n",
    "plot_cv_path(cv_results=est.cv_results_,\n",
    "             param='pen_val', metric='r2',\n",
    "             log_param=True,\n",
    "             selected_idx=est.best_tune_idx_)\n",
    "\n",
    "\n",
    "plt.figure()\n",
    "plot_cv_path(cv_results=est.cv_results_,\n",
    "             param='pen_val', metric='n_nonzero',\n",
    "             log_param=True,\n",
    "             show_train=False,\n",
    "             selected_idx=est.best_tune_idx_)"
   ]
  },
  {
   "cell_type": "code",
   "execution_count": null,
   "metadata": {},
   "outputs": [],
   "source": []
  }
 ],
 "metadata": {
  "kernelspec": {
   "display_name": "Python [conda env:root] *",
   "language": "python",
   "name": "conda-root-py"
  },
  "language_info": {
   "codemirror_mode": {
    "name": "ipython",
    "version": 3
   },
   "file_extension": ".py",
   "mimetype": "text/x-python",
   "name": "python",
   "nbconvert_exporter": "python",
   "pygments_lexer": "ipython3",
   "version": "3.7.4"
  }
 },
 "nbformat": 4,
 "nbformat_minor": 4
}
