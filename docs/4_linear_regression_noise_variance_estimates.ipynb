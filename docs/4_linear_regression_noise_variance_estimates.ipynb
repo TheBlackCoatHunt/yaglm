{
 "cells": [
  {
   "cell_type": "code",
   "execution_count": 1,
   "metadata": {},
   "outputs": [],
   "source": [
    "from ya_glm.toy_data import sample_sparse_lin_reg\n",
    "\n",
    "from ya_glm.GlmTuned import GlmCV\n",
    "from ya_glm.config.penalty import Lasso\n",
    "from ya_glm.config.flavor import NonConvex, Adaptive\n",
    "\n",
    "from ya_glm.infer.lin_reg_noise_var import ViaRidge, ViaSelRSS"
   ]
  },
  {
   "cell_type": "code",
   "execution_count": 2,
   "metadata": {},
   "outputs": [
    {
     "name": "stdout",
     "output_type": "stream",
     "text": [
      "True noise standard deviation 2.2360679788610334\n"
     ]
    }
   ],
   "source": [
    "# sample data from a toy linear regression model\n",
    "X, y, model_info = sample_sparse_lin_reg(n_samples=100,\n",
    "                                         n_features=100,\n",
    "                                         beta_type=1,\n",
    "                                         random_state=1)\n",
    "\n",
    "sigma_true = model_info['noise_std']\n",
    "print(\"True noise standard deviation\", sigma_true)"
   ]
  },
  {
   "cell_type": "code",
   "execution_count": 3,
   "metadata": {},
   "outputs": [
    {
     "name": "stdout",
     "output_type": "stream",
     "text": [
      "ridge estimate 1.9769879762025544\n"
     ]
    }
   ],
   "source": [
    "# ridge regressoin based estimate \n",
    "via_ridge = ViaRidge().fit(X, y)\n",
    "print(\"ridge estimate\", via_ridge.scale_)"
   ]
  },
  {
   "cell_type": "code",
   "execution_count": 4,
   "metadata": {},
   "outputs": [
    {
     "name": "stdout",
     "output_type": "stream",
     "text": [
      "lasso__cv\n",
      "CPU times: user 3.64 s, sys: 133 ms, total: 3.77 s\n",
      "Wall time: 3.47 s\n",
      "\n",
      "lasso__cv RSS selected noise estimate 1.9942285299573643\n",
      "\n",
      "\n",
      "\n",
      "\n",
      "adpt_lasso__cv\n",
      "CPU times: user 5.24 s, sys: 248 ms, total: 5.49 s\n",
      "Wall time: 4.81 s\n",
      "\n",
      "adpt_lasso__cv RSS selected noise estimate 1.681892380762427\n",
      "\n",
      "\n",
      "\n",
      "\n",
      "ncvx_lla__cv\n",
      "CPU times: user 6.97 s, sys: 255 ms, total: 7.23 s\n",
      "Wall time: 6.67 s\n",
      "\n",
      "ncvx_lla__cv RSS selected noise estimate 1.8938008478496657\n",
      "\n",
      "\n",
      "\n",
      "\n"
     ]
    }
   ],
   "source": [
    "# Residual sum of squares based estimates\n",
    "base_models = {'lasso__cv': GlmCV(penalty=Lasso()),\n",
    "               'adpt_lasso__cv': GlmCV(penalty=Lasso(flavor=Adaptive())),\n",
    "               'ncvx_lla__cv': GlmCV(penalty=Lasso(flavor=NonConvex()))\n",
    "              }\n",
    "\n",
    "noise_ests = {} \n",
    "\n",
    "for name, est in base_models.items():\n",
    "    print(name)\n",
    "    %time noise_ests[name] = ViaSelRSS(est=est).fit(X, y)\n",
    "    print('')\n",
    "    print(name, 'RSS selected noise estimate',noise_ests[name].scale_ )\n",
    "    print('\\n\\n\\n')"
   ]
  }
 ],
 "metadata": {
  "kernelspec": {
   "display_name": "Python [conda env:root] *",
   "language": "python",
   "name": "conda-root-py"
  },
  "language_info": {
   "codemirror_mode": {
    "name": "ipython",
    "version": 3
   },
   "file_extension": ".py",
   "mimetype": "text/x-python",
   "name": "python",
   "nbconvert_exporter": "python",
   "pygments_lexer": "ipython3",
   "version": "3.7.4"
  }
 },
 "nbformat": 4,
 "nbformat_minor": 2
}
